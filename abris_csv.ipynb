{
 "cells": [
  {
   "cell_type": "code",
   "execution_count": 1,
   "metadata": {},
   "outputs": [],
   "source": [
    "import pandas as pd"
   ]
  },
  {
   "cell_type": "code",
   "execution_count": 2,
   "metadata": {},
   "outputs": [
    {
     "data": {
      "text/html": [
       "<div>\n",
       "<style scoped>\n",
       "    .dataframe tbody tr th:only-of-type {\n",
       "        vertical-align: middle;\n",
       "    }\n",
       "\n",
       "    .dataframe tbody tr th {\n",
       "        vertical-align: top;\n",
       "    }\n",
       "\n",
       "    .dataframe thead th {\n",
       "        text-align: right;\n",
       "    }\n",
       "</style>\n",
       "<table border=\"1\" class=\"dataframe\">\n",
       "  <thead>\n",
       "    <tr style=\"text-align: right;\">\n",
       "      <th></th>\n",
       "      <th>Unnamed: 0.1</th>\n",
       "      <th>Tipo</th>\n",
       "      <th>Nombre</th>\n",
       "      <th>Año</th>\n",
       "      <th>,Mes</th>\n",
       "      <th>Id</th>\n",
       "    </tr>\n",
       "  </thead>\n",
       "  <tbody>\n",
       "    <tr>\n",
       "      <th>0</th>\n",
       "      <td>0</td>\n",
       "      <td>Movie</td>\n",
       "      <td>Asfour Stah</td>\n",
       "      <td>1990</td>\n",
       "      <td>3.0</td>\n",
       "      <td>tt0090665</td>\n",
       "    </tr>\n",
       "    <tr>\n",
       "      <th>1</th>\n",
       "      <td>1</td>\n",
       "      <td>Movie</td>\n",
       "      <td>O Escorpião Escarlate</td>\n",
       "      <td>1990</td>\n",
       "      <td>NaN</td>\n",
       "      <td>tt0091899</td>\n",
       "    </tr>\n",
       "    <tr>\n",
       "      <th>2</th>\n",
       "      <td>2</td>\n",
       "      <td>Movie</td>\n",
       "      <td>Payback</td>\n",
       "      <td>1990</td>\n",
       "      <td>4.0</td>\n",
       "      <td>tt0095840</td>\n",
       "    </tr>\n",
       "    <tr>\n",
       "      <th>3</th>\n",
       "      <td>3</td>\n",
       "      <td>Movie</td>\n",
       "      <td>Dezha vyu</td>\n",
       "      <td>1990</td>\n",
       "      <td>4.0</td>\n",
       "      <td>tt0097253</td>\n",
       "    </tr>\n",
       "    <tr>\n",
       "      <th>4</th>\n",
       "      <td>4</td>\n",
       "      <td>Movie</td>\n",
       "      <td>Zhong Ri nan bei he</td>\n",
       "      <td>1990</td>\n",
       "      <td>5.0</td>\n",
       "      <td>tt0096506</td>\n",
       "    </tr>\n",
       "  </tbody>\n",
       "</table>\n",
       "</div>"
      ],
      "text/plain": [
       "   Unnamed: 0.1   Tipo                 Nombre   Año  ,Mes         Id\n",
       "0             0  Movie            Asfour Stah  1990   3.0  tt0090665\n",
       "1             1  Movie  O Escorpião Escarlate  1990   NaN  tt0091899\n",
       "2             2  Movie                Payback  1990   4.0  tt0095840\n",
       "3             3  Movie              Dezha vyu  1990   4.0  tt0097253\n",
       "4             4  Movie    Zhong Ri nan bei he  1990   5.0  tt0096506"
      ]
     },
     "execution_count": 2,
     "metadata": {},
     "output_type": "execute_result"
    }
   ],
   "source": [
    "df = pd.read_csv(\"final_comedia.csv\", index_col= 0)\n",
    "df.head()"
   ]
  },
  {
   "cell_type": "code",
   "execution_count": 5,
   "metadata": {},
   "outputs": [
    {
     "data": {
      "text/plain": [
       "Index(['Unnamed: 0.1', 'Tipo', 'Nombre', 'Año', ',Mes', 'Id'], dtype='object')"
      ]
     },
     "execution_count": 5,
     "metadata": {},
     "output_type": "execute_result"
    }
   ],
   "source": [
    "df.columns"
   ]
  },
  {
   "cell_type": "code",
   "execution_count": 7,
   "metadata": {},
   "outputs": [
    {
     "data": {
      "text/html": [
       "<div>\n",
       "<style scoped>\n",
       "    .dataframe tbody tr th:only-of-type {\n",
       "        vertical-align: middle;\n",
       "    }\n",
       "\n",
       "    .dataframe tbody tr th {\n",
       "        vertical-align: top;\n",
       "    }\n",
       "\n",
       "    .dataframe thead th {\n",
       "        text-align: right;\n",
       "    }\n",
       "</style>\n",
       "<table border=\"1\" class=\"dataframe\">\n",
       "  <thead>\n",
       "    <tr style=\"text-align: right;\">\n",
       "      <th></th>\n",
       "      <th>Tipo</th>\n",
       "      <th>Nombre</th>\n",
       "      <th>Año</th>\n",
       "      <th>,Mes</th>\n",
       "      <th>Id</th>\n",
       "    </tr>\n",
       "  </thead>\n",
       "  <tbody>\n",
       "    <tr>\n",
       "      <th>0</th>\n",
       "      <td>Movie</td>\n",
       "      <td>Asfour Stah</td>\n",
       "      <td>1990</td>\n",
       "      <td>3.0</td>\n",
       "      <td>tt0090665</td>\n",
       "    </tr>\n",
       "    <tr>\n",
       "      <th>1</th>\n",
       "      <td>Movie</td>\n",
       "      <td>O Escorpião Escarlate</td>\n",
       "      <td>1990</td>\n",
       "      <td>NaN</td>\n",
       "      <td>tt0091899</td>\n",
       "    </tr>\n",
       "    <tr>\n",
       "      <th>2</th>\n",
       "      <td>Movie</td>\n",
       "      <td>Payback</td>\n",
       "      <td>1990</td>\n",
       "      <td>4.0</td>\n",
       "      <td>tt0095840</td>\n",
       "    </tr>\n",
       "    <tr>\n",
       "      <th>3</th>\n",
       "      <td>Movie</td>\n",
       "      <td>Dezha vyu</td>\n",
       "      <td>1990</td>\n",
       "      <td>4.0</td>\n",
       "      <td>tt0097253</td>\n",
       "    </tr>\n",
       "    <tr>\n",
       "      <th>4</th>\n",
       "      <td>Movie</td>\n",
       "      <td>Zhong Ri nan bei he</td>\n",
       "      <td>1990</td>\n",
       "      <td>5.0</td>\n",
       "      <td>tt0096506</td>\n",
       "    </tr>\n",
       "  </tbody>\n",
       "</table>\n",
       "</div>"
      ],
      "text/plain": [
       "    Tipo                 Nombre   Año  ,Mes         Id\n",
       "0  Movie            Asfour Stah  1990   3.0  tt0090665\n",
       "1  Movie  O Escorpião Escarlate  1990   NaN  tt0091899\n",
       "2  Movie                Payback  1990   4.0  tt0095840\n",
       "3  Movie              Dezha vyu  1990   4.0  tt0097253\n",
       "4  Movie    Zhong Ri nan bei he  1990   5.0  tt0096506"
      ]
     },
     "execution_count": 7,
     "metadata": {},
     "output_type": "execute_result"
    }
   ],
   "source": [
    "df.drop(columns= ['Unnamed: 0.1'], inplace= True)\n",
    "df.head()"
   ]
  },
  {
   "cell_type": "code",
   "execution_count": 13,
   "metadata": {},
   "outputs": [
    {
     "data": {
      "text/html": [
       "<div>\n",
       "<style scoped>\n",
       "    .dataframe tbody tr th:only-of-type {\n",
       "        vertical-align: middle;\n",
       "    }\n",
       "\n",
       "    .dataframe tbody tr th {\n",
       "        vertical-align: top;\n",
       "    }\n",
       "\n",
       "    .dataframe thead th {\n",
       "        text-align: right;\n",
       "    }\n",
       "</style>\n",
       "<table border=\"1\" class=\"dataframe\">\n",
       "  <thead>\n",
       "    <tr style=\"text-align: right;\">\n",
       "      <th></th>\n",
       "      <th>Tipo</th>\n",
       "      <th>Nombre</th>\n",
       "      <th>Año</th>\n",
       "      <th>Mes</th>\n",
       "      <th>Id</th>\n",
       "    </tr>\n",
       "  </thead>\n",
       "  <tbody>\n",
       "    <tr>\n",
       "      <th>0</th>\n",
       "      <td>Movie</td>\n",
       "      <td>Asfour Stah</td>\n",
       "      <td>1990</td>\n",
       "      <td>3.0</td>\n",
       "      <td>tt0090665</td>\n",
       "    </tr>\n",
       "    <tr>\n",
       "      <th>1</th>\n",
       "      <td>Movie</td>\n",
       "      <td>O Escorpião Escarlate</td>\n",
       "      <td>1990</td>\n",
       "      <td>NaN</td>\n",
       "      <td>tt0091899</td>\n",
       "    </tr>\n",
       "    <tr>\n",
       "      <th>2</th>\n",
       "      <td>Movie</td>\n",
       "      <td>Payback</td>\n",
       "      <td>1990</td>\n",
       "      <td>4.0</td>\n",
       "      <td>tt0095840</td>\n",
       "    </tr>\n",
       "    <tr>\n",
       "      <th>3</th>\n",
       "      <td>Movie</td>\n",
       "      <td>Dezha vyu</td>\n",
       "      <td>1990</td>\n",
       "      <td>4.0</td>\n",
       "      <td>tt0097253</td>\n",
       "    </tr>\n",
       "    <tr>\n",
       "      <th>4</th>\n",
       "      <td>Movie</td>\n",
       "      <td>Zhong Ri nan bei he</td>\n",
       "      <td>1990</td>\n",
       "      <td>5.0</td>\n",
       "      <td>tt0096506</td>\n",
       "    </tr>\n",
       "  </tbody>\n",
       "</table>\n",
       "</div>"
      ],
      "text/plain": [
       "    Tipo                 Nombre   Año  Mes         Id\n",
       "0  Movie            Asfour Stah  1990  3.0  tt0090665\n",
       "1  Movie  O Escorpião Escarlate  1990  NaN  tt0091899\n",
       "2  Movie                Payback  1990  4.0  tt0095840\n",
       "3  Movie              Dezha vyu  1990  4.0  tt0097253\n",
       "4  Movie    Zhong Ri nan bei he  1990  5.0  tt0096506"
      ]
     },
     "execution_count": 13,
     "metadata": {},
     "output_type": "execute_result"
    }
   ],
   "source": [
    "df.columns=['Tipo', 'Nombre', 'Año', 'Mes', 'Id']\n",
    "df.head()"
   ]
  },
  {
   "cell_type": "code",
   "execution_count": 9,
   "metadata": {},
   "outputs": [],
   "source": [
    "lista_comedia = [tuple(x) for x in df.values]"
   ]
  },
  {
   "cell_type": "code",
   "execution_count": null,
   "metadata": {},
   "outputs": [],
   "source": [
    "lista_comedia"
   ]
  },
  {
   "cell_type": "code",
   "execution_count": 62,
   "metadata": {},
   "outputs": [
    {
     "data": {
      "text/plain": [
       "[('Movie', 'Asfour Stah', 1990, 3.0, 'tt0090665'),\n",
       " ('Movie', 'O Escorpião Escarlate', 1990, nan, 'tt0091899'),\n",
       " ('Movie', 'Payback', 1990, 4.0, 'tt0095840')]"
      ]
     },
     "execution_count": 62,
     "metadata": {},
     "output_type": "execute_result"
    }
   ],
   "source": [
    "lista_comedia_partida = lista_comedia[0:3]\n",
    "lista_comedia_partida"
   ]
  },
  {
   "cell_type": "code",
   "execution_count": 22,
   "metadata": {},
   "outputs": [
    {
     "data": {
      "text/plain": [
       "'tt0091899'"
      ]
     },
     "execution_count": 22,
     "metadata": {},
     "output_type": "execute_result"
    }
   ],
   "source": [
    "lista_comedia_partida[1][-1]"
   ]
  },
  {
   "cell_type": "code",
   "execution_count": 57,
   "metadata": {},
   "outputs": [],
   "source": [
    "import pandas as pd  # Pandas es una poderosa librería para manipulación y análisis de datos en Python.\n",
    "\n",
    "# Importar librerías para web scraping y manipulación de datos\n",
    "# -----------------------------------------------------------------------\n",
    "from bs4 import BeautifulSoup\n",
    "import requests\n",
    "from tqdm import tqdm\n",
    "import re\n",
    "\n",
    "\n",
    "# Importar librerías para automatización de navegadores web con Selenium\n",
    "# -----------------------------------------------------------------------\n",
    "from selenium import webdriver  # Selenium es una herramienta para automatizar la interacción con navegadores web.\n",
    "from webdriver_manager.chrome import ChromeDriverManager  # ChromeDriverManager gestiona la instalación del controlador de Chrome.\n",
    "from selenium.webdriver.common.keys import Keys  # Keys es útil para simular eventos de teclado en Selenium.\n",
    "from selenium.webdriver.support.ui import Select  # Select se utiliza para interactuar con elementos <select> en páginas web.\n",
    "\n",
    "# Importar librerías para pausar la ejecución\n",
    "# -----------------------------------------------------------------------\n",
    "from time import sleep  # Sleep se utiliza para pausar la ejecución del programa por un número de segundos.\n",
    "\n",
    "# Configuraciones\n",
    "# -----------------------------------------------------------------------\n",
    "pd.set_option('display.max_columns', None)  # Establece una opción de Pandas para mostrar todas las columnas de un DataFrame.\n"
   ]
  },
  {
   "cell_type": "code",
   "execution_count": 65,
   "metadata": {},
   "outputs": [
    {
     "name": "stderr",
     "output_type": "stream",
     "text": [
      "100%|██████████| 3/3 [05:15<00:00, 105.14s/it]\n"
     ]
    }
   ],
   "source": [
    "url = \"https://www.imdb.com/\"\n",
    "\n",
    "driver = webdriver.Chrome()\n",
    "driver.get(url)\n",
    "sleep(2)\n",
    "driver.maximize_window()\n",
    "\n",
    "lista_tupla_imdb=[]\n",
    "for tupla in tqdm(lista_comedia_partida):\n",
    "    lista_imdb =[]\n",
    "\n",
    "    driver.find_element(\"css selector\", \"#suggestion-search\").click()\n",
    "    sleep(3)\n",
    "    driver.find_element(\"css selector\", \"#suggestion-search\").send_keys(tupla[-1], Keys.ENTER)\n",
    "    sleep(5)\n",
    "    \n",
    "    \n",
    "    puntuacion = driver.find_element(\"css selector\", \"#__next > main > div > section.ipc-page-background.ipc-page-background--base.sc-304f99f6-0.eaRXHu > section > div:nth-child(4) > section > section > div.sc-e226b0e3-3.jJsEuz > div.sc-3a4309f8-0.fjtZsE.sc-dffc6c81-1.fJrHDo > div > div:nth-child(1) > a > span > div > div.sc-bde20123-0.gtEgaf\").text\n",
    "    puntuacion_correcta = re.sub(r'\\n.*', '', puntuacion)\n",
    "    \n",
    "    #depurar datos de la puntuación (pendiente meter regex)\n",
    "    \n",
    "    guionista= driver.find_element(\"css selector\", \"#__next > main > div > section.ipc-page-background.ipc-page-background--base.sc-304f99f6-0.eaRXHu > section > div:nth-child(4) > section > section > div.sc-e226b0e3-4.fjlSjH > div.sc-e226b0e3-6.ktaZPG > div.sc-e226b0e3-10.bALQos > section > div.sc-dffc6c81-3.jFHENY > div > ul > li:nth-child(2) > div\").text\n",
    "    guionista_corregidos= re.sub(r'([a-z])([A-Z])', r'\\1 \\2', guionista)     \n",
    "\n",
    "    sleep(3)\n",
    "\n",
    "    director= driver.find_element(\"css selector\", \"#__next > main > div > section.ipc-page-background.ipc-page-background--base.sc-304f99f6-0.eaRXHu > section > div:nth-child(4) > section > section > div.sc-e226b0e3-4.fjlSjH > div.sc-e226b0e3-6.ktaZPG > div.sc-e226b0e3-10.bALQos > section > div.sc-dffc6c81-3.jFHENY > div > ul > li:nth-child(1) > div > ul > li > a\").text\n",
    "    \n",
    "        \n",
    "    lista_imdb.append(tupla[-1])\n",
    "    lista_imdb.append(tupla[1])\n",
    "    lista_imdb.append(director)\n",
    "    lista_imdb.append(guionista_corregidos)\n",
    "    try: \n",
    "        duracion= driver.find_element(\"css selector\", \"#__next > main > div > section.ipc-page-background.ipc-page-background--base.sc-304f99f6-0.eaRXHu > section > div:nth-child(4) > section > section > div.sc-e226b0e3-3.jJsEuz > div.sc-dffc6c81-0.iwmAVw > ul > li:nth-child(2)\").text\n",
    "        if 'min' in duracion: \n",
    "           lista_imdb.append(duracion)\n",
    "        else:\n",
    "            duracion= driver.find_element(\"css selector\", \"#__next > main > div > section.ipc-page-background.ipc-page-background--base.sc-304f99f6-0.eaRXHu > section > div:nth-child(4) > section > section > div.sc-e226b0e3-3.jJsEuz > div.sc-dffc6c81-0.iwmAVw > ul > li:nth-child(3)\").text \n",
    "            lista_imdb.append(duracion)\n",
    "            \n",
    "    except:\n",
    "        pass \n",
    "    lista_imdb.append(puntuacion_correcta.replace(\",\", \".\"))\n",
    "\n",
    "    try: \n",
    "        argumento = driver.find_element(\"css selector\", \"#__next > main > div > section.ipc-page-background.ipc-page-background--base.sc-304f99f6-0.eaRXHu > section > div:nth-child(4) > section > section > div.sc-e226b0e3-4.fjlSjH > div.sc-e226b0e3-6.ktaZPG > div.sc-e226b0e3-10.bALQos > section > p > span.sc-466bb6c-2.eVLpWt\").text\n",
    "        lista_imdb.append(argumento)\n",
    "    except:\n",
    "        lista_imdb.append(\"Sin argumento\")\n",
    "    \n",
    "\n",
    "    lista_tupla_imdb.append(tuple(lista_imdb))\n",
    "\n",
    "\n",
    "\n",
    "driver.back()\n",
    "\n"
   ]
  },
  {
   "cell_type": "code",
   "execution_count": 66,
   "metadata": {},
   "outputs": [
    {
     "data": {
      "text/plain": [
       "[('tt0090665',\n",
       "  'Asfour Stah',\n",
       "  'Férid Boughedir',\n",
       "  'Férid Boughedir Nouri Bouzid Taoufik Jebali',\n",
       "  '1h 38min',\n",
       "  '6.7',\n",
       "  'Noura struggles to reconcile two worlds, Muslim women and men, while also dealing with his own sexuality.'),\n",
       " ('tt0091899',\n",
       "  'O Escorpião Escarlate',\n",
       "  'Ivan Cardoso',\n",
       "  'Rubens Francisco Luchetti',\n",
       "  '1h 30min',\n",
       "  '6.2',\n",
       "  'O Anjo (The Angel) is a millionaire playboy who fights the forces of crime, especially his deadly enemy, the arch-villain Escorpião Escarlate (Scarlet Scorpion), who recently has kidnapped the fashion designer Glória Campos, who is in love with our hero.'),\n",
       " ('tt0095840',\n",
       "  'Payback',\n",
       "  'Addison Randall',\n",
       "  'Addison Randall',\n",
       "  '1h 30min',\n",
       "  '4.3',\n",
       "  'A right-wing revolutionary group called Strikeforce goes on a kidnapping and murdering spree in order to obtain a lethal top secret weapon. A Vietnam Vet called Jason Shepherd is called in to track the group down.')]"
      ]
     },
     "execution_count": 66,
     "metadata": {},
     "output_type": "execute_result"
    }
   ],
   "source": [
    "lista_tupla_imdb"
   ]
  },
  {
   "cell_type": "code",
   "execution_count": 55,
   "metadata": {},
   "outputs": [
    {
     "name": "stdout",
     "output_type": "stream",
     "text": [
      "Kee-To Lam Tai-Mok Lau Man Fai Ng\n"
     ]
    }
   ],
   "source": [
    "texto_separado = re.sub(r'([a-z])([A-Z])', r'\\1 \\2', 'Kee-To LamTai-Mok LauMan Fai Ng',)\n",
    "print(texto_separado)"
   ]
  },
  {
   "cell_type": "code",
   "execution_count": 53,
   "metadata": {},
   "outputs": [
    {
     "data": {
      "text/plain": [
       "[('A Japanese singer believes her father has been kidnapped. She goes to Hong Kong to find him.',\n",
       "  '5,6\\n/10\\n80',\n",
       "  'Kee-To LamTai-Mok LauMan Fai Ng',\n",
       "  'David Wu',\n",
       "  '1h 32min',\n",
       "  'tt0096506',\n",
       "  'Zhong Ri nan bei he')]"
      ]
     },
     "execution_count": 53,
     "metadata": {},
     "output_type": "execute_result"
    }
   ],
   "source": [
    "lista_tupla_imdb\n"
   ]
  },
  {
   "cell_type": "code",
   "execution_count": 51,
   "metadata": {},
   "outputs": [
    {
     "data": {
      "text/plain": [
       "[('A Japanese singer believes her father has been kidnapped. She goes to Hong Kong to find him.',\n",
       "  '5,6\\n/10\\n80',\n",
       "  'Kee-To LamTai-Mok LauMan Fai Ng',\n",
       "  'David Wu',\n",
       "  '1h 32min',\n",
       "  'tt0096506',\n",
       "  'Zhong Ri nan bei he')]"
      ]
     },
     "execution_count": 51,
     "metadata": {},
     "output_type": "execute_result"
    }
   ],
   "source": [
    "lista_tupla_imdb"
   ]
  },
  {
   "cell_type": "code",
   "execution_count": 52,
   "metadata": {},
   "outputs": [
    {
     "data": {
      "text/plain": [
       "[('A Japanese singer believes her father has been kidnapped. She goes to Hong Kong to find him.',\n",
       "  '5,6\\n/10\\n80',\n",
       "  'Kee-To LamTai-Mok LauMan Fai Ng',\n",
       "  'David Wu',\n",
       "  '1h 32min',\n",
       "  'tt0096506',\n",
       "  'Zhong Ri nan bei he')]"
      ]
     },
     "execution_count": 52,
     "metadata": {},
     "output_type": "execute_result"
    }
   ],
   "source": [
    "lista_tupla_imdb"
   ]
  },
  {
   "cell_type": "code",
   "execution_count": 45,
   "metadata": {},
   "outputs": [
    {
     "data": {
      "text/plain": [
       "'5.6'"
      ]
     },
     "execution_count": 45,
     "metadata": {},
     "output_type": "execute_result"
    }
   ],
   "source": [
    "puntuacion_correcta.replace(\",\", \".\")"
   ]
  }
 ],
 "metadata": {
  "kernelspec": {
   "display_name": "base",
   "language": "python",
   "name": "python3"
  },
  "language_info": {
   "codemirror_mode": {
    "name": "ipython",
    "version": 3
   },
   "file_extension": ".py",
   "mimetype": "text/x-python",
   "name": "python",
   "nbconvert_exporter": "python",
   "pygments_lexer": "ipython3",
   "version": "3.9.7"
  },
  "orig_nbformat": 4
 },
 "nbformat": 4,
 "nbformat_minor": 2
}
