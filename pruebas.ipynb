{
 "cells": [
  {
   "cell_type": "code",
   "execution_count": 2,
   "metadata": {},
   "outputs": [
    {
     "name": "stdout",
     "output_type": "stream",
     "text": [
      "130\n",
      "[('Short', 'Peep Show', 1992, 6, 'tt0082891', 'Short', 'Open House', 1992, 6, 'tt0084447', 'Movie', \"La nuit de l'océan\", 1992, 6, 'tt0095761', 'Movie', 'Tao xue wai zhuan', 1992, 10, 'tt0096222', 'Movie', 'Judgement', 1992, 8, 'tt0097631', 'Movie', 'Ng yuet yam seon', 1992, 5, 'tt0099104', 'Movie', 'Disha', 1992, 2, 'tt0099437', 'Movie', \"Coupable d'innocence ou Quand la raison dort\", 1992, 2, 'tt0099639', 'Movie', 'Fau sai luen kuk', 1992, 6, 'tt0099620', 'Movie', 'Hurricane Smith', 1992, 4, 'tt0099814', 'Movie', 'Back to the USSR - takaisin Ryssiin', 1992, 3, 'tt0099089', 'Movie', 'Perumthachan', 1992, 11, 'tt0100354', 'Movie', 'Hei tai yang 731 xu ji zhi sha ren gong chang', 1992, 7, 'tt0099757', 'Movie', 'Exiled in America', 1992, 11, 'tt0099527', 'Movie', 'Da Jue Zhan III: Ping Jin Zhan Yi', 1992, None, 'tt0099340', 'Movie', 'El bulto', 1992, 8, 'tt0101519', 'Movie', 'Kiks', 1992, 4, 'tt0102206', 'Movie', 'El juego de los mensajes invisibles', 1992, 5, 'tt0102169', 'Movie', 'I vozvrashchaetsya veter...', 1992, 6, 'tt0102091', 'Short', 'Fugitive Love', 1992, 10, 'tt0101926', 'Short', 'Ambition', 1992, 2, 'tt0101321', 'Movie', 'Humlaa', 1992, 5, 'tt0102073', 'Movie', 'The Last Riders', 1992, 2, 'tt0102275', 'Movie', 'Backsliding', 1992, 3, 'tt0101395', 'Movie', 'Mo jong yuen So Hak Yee', 1992, 12, 'tt0100963', 'Movie', 'Bordertown Cafe', 1992, None, 'tt0101499')]\n"
     ]
    }
   ],
   "source": [
    "import requests\n",
    "lista_tuplas=[]\n",
    "lista_peliculas_y_cortos=[]\n",
    "for i in range(1,5):\n",
    "    url = f\"https://moviesdatabase.p.rapidapi.com/titles?page={i}\"\n",
    "    querystring = {\"genre\":\"Drama\",\"startYear\":\"1990\",\"endYear\":\"1992\"}\n",
    "    headers = {\n",
    "        \"X-RapidAPI-Key\": \"f6331b74eemshe555eab401ff0ccp18d045jsneaa4425720fb\",\n",
    "        \"X-RapidAPI-Host\": \"moviesdatabase.p.rapidapi.com\"\n",
    "    }\n",
    "    response = requests.get(url, headers=headers, params=querystring)\n",
    "    llamada=response.json()\n",
    "    #print(llamada)\n",
    "    for pelicula in llamada[\"results\"]:\n",
    "        #lista_peliculas_y_cortos=[]\n",
    "        nombre=pelicula[\"titleText\"][\"text\"]\n",
    "        tipo=pelicula[\"titleType\"][\"text\"]\n",
    "        año_estreno=pelicula[\"releaseYear\"][\"year\"]\n",
    "        mes_estreno=pelicula[\"releaseDate\"][\"month\"]\n",
    "        id_pelicula=pelicula[\"id\"]\n",
    "        if tipo == 'Movie' or tipo == 'Short':\n",
    "            lista_peliculas_y_cortos.append(tipo)\n",
    "            lista_peliculas_y_cortos.append(nombre)\n",
    "            lista_peliculas_y_cortos.append(año_estreno)\n",
    "            lista_peliculas_y_cortos.append(mes_estreno)\n",
    "            lista_peliculas_y_cortos.append(id_pelicula)\n",
    "        else:\n",
    "            pass\n",
    "#he movido esto para que no salgan repetidos. LUCÍA\n",
    "lista_tuplas.append(tuple(lista_peliculas_y_cortos))\n",
    "print(len(lista_peliculas_y_cortos))\n",
    "print(lista_tuplas)\n",
    "\n",
    "#con este código parece que nos cambia de página y salen más de 10 resultados\n",
    "#Pendiente: Revisar url (año y género) y conseguir una tupla de cada uno. Ahora sale una lista con una tupla."
   ]
  },
  {
   "cell_type": "code",
   "execution_count": null,
   "metadata": {},
   "outputs": [],
   "source": [
    "import requests\n",
    "lista_tuplas=[]\n",
    "lista_peliculas_y_cortos=[]\n",
    "for i in range(1,5):\n",
    "    url = f\"https://moviesdatabase.p.rapidapi.com/titles?page={i}\"\n",
    "    querystring = {\"genre\":\"Drama\",\"startYear\":\"1990\",\"endYear\":\"1992\"}\n",
    "    headers = {\n",
    "        \"X-RapidAPI-Key\": \"f6331b74eemshe555eab401ff0ccp18d045jsneaa4425720fb\",\n",
    "        \"X-RapidAPI-Host\": \"moviesdatabase.p.rapidapi.com\"\n",
    "    }\n",
    "    response = requests.get(url, headers=headers, params=querystring)\n",
    "    llamada=response.json()\n",
    "    #print(llamada)\n",
    "    for pelicula in llamada[\"results\"]:\n",
    "        #lista_peliculas_y_cortos=[]\n",
    "        nombre=pelicula[\"titleText\"][\"text\"]\n",
    "        tipo=pelicula[\"titleType\"][\"text\"]\n",
    "        año_estreno=pelicula[\"releaseYear\"][\"year\"]\n",
    "        mes_estreno=pelicula[\"releaseDate\"][\"month\"]\n",
    "        id_pelicula=pelicula[\"id\"]\n",
    "        if tipo == 'Movie' or tipo == 'Short':\n",
    "            lista_peliculas_y_cortos.append(tipo)\n",
    "            lista_peliculas_y_cortos.append(nombre)\n",
    "            lista_peliculas_y_cortos.append(año_estreno)\n",
    "            lista_peliculas_y_cortos.append(mes_estreno)\n",
    "            lista_peliculas_y_cortos.append(id_pelicula)\n",
    "        else:\n",
    "            pass\n",
    "#he movido esto para que no salgan repetidos. LUCÍA\n",
    "lista_tuplas.append(tuple(lista_peliculas_y_cortos))\n",
    "print(len(lista_peliculas_y_cortos))\n",
    "print(lista_tuplas)\n",
    "\n",
    "#con este código parece que nos cambia de página y salen más de 10 resultados\n",
    "#Pendiente: Revisar url (año y género) y conseguir una tupla de cada uno. Ahora sale una lista con una tupla."
   ]
  }
 ],
 "metadata": {
  "kernelspec": {
   "display_name": "base",
   "language": "python",
   "name": "python3"
  },
  "language_info": {
   "codemirror_mode": {
    "name": "ipython",
    "version": 3
   },
   "file_extension": ".py",
   "mimetype": "text/x-python",
   "name": "python",
   "nbconvert_exporter": "python",
   "pygments_lexer": "ipython3",
   "version": "3.9.7"
  }
 },
 "nbformat": 4,
 "nbformat_minor": 2
}
