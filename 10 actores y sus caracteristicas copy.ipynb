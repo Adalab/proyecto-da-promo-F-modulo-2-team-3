{
 "cells": [
  {
   "cell_type": "code",
   "execution_count": 8,
   "metadata": {},
   "outputs": [],
   "source": [
    "import requests\n",
    "import pandas as pd\n",
    "\n",
    "# Importar librerías para web scraping y manipulación de datos\n",
    "# -----------------------------------------------------------------------\n",
    "from bs4 import BeautifulSoup\n",
    "import requests\n",
    "\n",
    "\n",
    "from tqdm import tqdm\n",
    "\n",
    "# Importar librerías para automatización de navegadores web con Selenium\n",
    "# -----------------------------------------------------------------------\n",
    "from selenium import webdriver  # Selenium es una herramienta para automatizar la interacción con navegadores web.\n",
    "from webdriver_manager.chrome import ChromeDriverManager  # ChromeDriverManager gestiona la instalación del controlador de Chrome.\n",
    "from selenium.webdriver.common.keys import Keys  # Keys es útil para simular eventos de teclado en Selenium.\n",
    "\n",
    "# Importar librerías para pausar la ejecución\n",
    "# -----------------------------------------------------------------------\n",
    "from time import sleep  # Sleep se utiliza para pausar la ejecución del programa por un número de segundos."
   ]
  },
  {
   "cell_type": "code",
   "execution_count": 2,
   "metadata": {},
   "outputs": [],
   "source": [
    "import re"
   ]
  },
  {
   "cell_type": "code",
   "execution_count": 9,
   "metadata": {},
   "outputs": [],
   "source": [
    "lista_prueba = [('tt0099044',   'Another 48 Hrs.',   'Walter Hill',   'John Fasano Roger Spottiswoode Jeb Stuart', '1h 35min',   '5.9',   'Jack Cates vuelve a contar con la ayuda del exconvicto Reggie Hammond, esta vez para acabar con El Témpano, un despiadado capo de la droga que opera en la zona de la bahía de San Francisco.'),  ('tt0097259',   'Easy Kill',   'Josh Spencer',   'Greg Latter',   '1h 29min',   '3.8',   'A bar owner/ex cop winds up in a scheme involving drug smuggling, murder, and seduction.'),  ('tt0099240',   'Janggunui adeul',   'Im Kwon-taek',   'Song-yu Hong Sam-yuk Yoon',   '1h 48min',   '6.4',   \"The first chapter of the the General's Son trilogy follows Kim Du-Han's childhood, from the loss of his mother at age 8, to his rise as a gang leader who protects local vendors from expanding Yakuza forces in Japanese occupied Korea.\", 'tt0405889',\n",
    "  'Duelo de rufianes',   'No especificado',   'No especificado',  '1h 30min', 'No se facilita puntuación', 'No se facilita argumento')]\n"
   ]
  },
  {
   "cell_type": "code",
   "execution_count": 15,
   "metadata": {},
   "outputs": [],
   "source": [
    "lista_prueba2=[('tt6911608','Mamma Mia! Here We Go Again', 'NA', 'NA', 'NA', 'NA', 'NA')]"
   ]
  },
  {
   "cell_type": "markdown",
   "metadata": {},
   "source": [
    "# Actores por peli"
   ]
  },
  {
   "cell_type": "code",
   "execution_count": 16,
   "metadata": {},
   "outputs": [
    {
     "name": "stderr",
     "output_type": "stream",
     "text": [
      "100%|██████████| 1/1 [00:08<00:00,  8.30s/it]\n"
     ]
    }
   ],
   "source": [
    "driver = webdriver.Chrome()\n",
    "\n",
    "driver.maximize_window()\n",
    "\n",
    "driver.get(\"https://www.imdb.com/\")\n",
    "\n",
    "lista_tupla_actores = []\n",
    "sleep(3)\n",
    "for tupla in tqdm(lista_prueba2):\n",
    "    \n",
    "    driver.find_element(\"css selector\", \"#suggestion-search\").send_keys(tupla[0], Keys.ENTER)\n",
    "    sleep(3)\n",
    "    \n",
    "    lista_actores = []\n",
    "    for i in range(1, 11):\n",
    "        try:\n",
    "            lista_actores.append(driver.find_element(\"css selector\", f\"#__next > main > div > section.ipc-page-background.ipc-page-background--base.sc-304f99f6-0.fSJiHR > div > section > div > div.sc-9178d6fe-1.fqVKQb.ipc-page-grid__item.ipc-page-grid__item--span-2 > section.ipc-page-section.ipc-page-section--base.sc-bfec09a1-0.jgUBLM.title-cast.title-cast--movie.celwidget > div.ipc-shoveler.ipc-shoveler--base.ipc-shoveler--page0.title-cast__grid > div.ipc-sub-grid.ipc-sub-grid--page-span-2.ipc-sub-grid--wraps-at-above-l.ipc-shoveler__grid > div:nth-child({i}) > div.sc-bfec09a1-7.gWwKlt > a\").text)\n",
    "           \n",
    "        except:            \n",
    "            break\n",
    "    lista_actores.append(tupla[1])\n",
    "    lista_tupla_actores.append(tuple(lista_actores))\n",
    "\n",
    "    driver.back()\n",
    "\n",
    "driver.close()   \n"
   ]
  },
  {
   "cell_type": "code",
   "execution_count": null,
   "metadata": {},
   "outputs": [],
   "source": [
    "#__next > main > div > section.ipc-page-background.ipc-page-background--base.sc-304f99f6-0.fSJiHR > div > section > div > div.sc-9178d6fe-1.fqVKQb.ipc-page-grid__item.ipc-page-grid__item--span-2 > section.ipc-page-section.ipc-page-section--base.sc-bfec09a1-0.jgUBLM.title-cast.title-cast--movie.celwidget > div.ipc-shoveler.ipc-shoveler--base.ipc-shoveler--page0.title-cast__grid > div.ipc-sub-grid.ipc-sub-grid--page-span-2.ipc-sub-grid--wraps-at-above-l.ipc-shoveler__grid > div:nth-child(1) > div.sc-bfec09a1-7.gWwKlt > a\n",
    "#__next > main > div > section.ipc-page-background.ipc-page-background--base.sc-304f99f6-0.fSJiHR > div > section > div > div.sc-9178d6fe-1.fqVKQb.ipc-page-grid__item.ipc-page-grid__item--span-2 > section.ipc-page-section.ipc-page-section--base.sc-bfec09a1-0.jgUBLM.title-cast.title-cast--movie.celwidget > div.ipc-shoveler.ipc-shoveler--base.ipc-shoveler--page0.title-cast__grid > div.ipc-sub-grid.ipc-sub-grid--page-span-2.ipc-sub-grid--wraps-at-above-l.ipc-shoveler__grid > div:nth-child(2) > div.sc-bfec09a1-7.gWwKlt > a"
   ]
  },
  {
   "cell_type": "code",
   "execution_count": 17,
   "metadata": {},
   "outputs": [
    {
     "data": {
      "text/plain": [
       "[('Lily James',\n",
       "  'Amanda Seyfried',\n",
       "  'Meryl Streep',\n",
       "  'Cher',\n",
       "  'Andy Garcia',\n",
       "  'Celia Imrie',\n",
       "  'Alexa Davies',\n",
       "  'Jessica Keenan Wynn',\n",
       "  'Dominic Cooper',\n",
       "  'Julie Walters',\n",
       "  'Mamma Mia! Here We Go Again')]"
      ]
     },
     "execution_count": 17,
     "metadata": {},
     "output_type": "execute_result"
    }
   ],
   "source": [
    "lista_tupla_actores"
   ]
  },
  {
   "cell_type": "markdown",
   "metadata": {},
   "source": [
    "# Caracteristicas de los actores"
   ]
  },
  {
   "cell_type": "code",
   "execution_count": null,
   "metadata": {},
   "outputs": [],
   "source": [
    "#EL PROBLEMA ES EL AÑO DE NACIMIENTO"
   ]
  },
  {
   "cell_type": "code",
   "execution_count": null,
   "metadata": {},
   "outputs": [],
   "source": [
    "# no borrar celda siguiente es el ejemplo de aana"
   ]
  },
  {
   "cell_type": "code",
   "execution_count": null,
   "metadata": {},
   "outputs": [
    {
     "data": {
      "text/plain": [
       "[(' 1941',\n",
       "  \"Born in '45\\n6.4\\nLisa, genannt Li\\n1990\\nDie Glatzkopfbande\\n5.5\\nWaltraud\\n1963\\nJetzt und in der Stunde meines Todes\\n7.4\\nAngelika Hecht\\n1963\\nDas verhexte Fischerdorf\\n5.1\\nEvelyn\\n1962\",\n",
       "  'Actress',\n",
       "  'Monika Hildebrand'),\n",
       " (' 1935',\n",
       "  'He Du!\\n6.9\\nMaxe Krahl(as Rolf Specht)\\n1970\\nTecumseh\\n5.6\\nSimon McKew\\n1972\\nChingachgook, die grosse Schlange\\n6.0\\nWildtöterDeerslayer\\n1967\\nDer Mord, der nie verjährt\\nLiepmann\\n1968',\n",
       "  'Actor',\n",
       "  'Rolf Römer'),\n",
       " ('desconocido', \"Born in '45\\n6.4\\nMogul\\n1990\", 'Actor', 'Paul Eichbaum')]"
      ]
     },
     "execution_count": 18,
     "metadata": {},
     "output_type": "execute_result"
    }
   ],
   "source": [
    "lista_detalles_actores"
   ]
  },
  {
   "cell_type": "code",
   "execution_count": 19,
   "metadata": {},
   "outputs": [
    {
     "name": "stderr",
     "output_type": "stream",
     "text": [
      "  0%|          | 0/10 [00:00<?, ?it/s]"
     ]
    },
    {
     "name": "stdout",
     "output_type": "stream",
     "text": [
      "Lily James\n"
     ]
    },
    {
     "name": "stderr",
     "output_type": "stream",
     "text": [
      " 10%|█         | 1/10 [00:15<02:17, 15.24s/it]"
     ]
    },
    {
     "name": "stdout",
     "output_type": "stream",
     "text": [
      "Amanda Seyfried\n"
     ]
    },
    {
     "name": "stderr",
     "output_type": "stream",
     "text": [
      " 20%|██        | 2/10 [00:30<02:03, 15.45s/it]"
     ]
    },
    {
     "name": "stdout",
     "output_type": "stream",
     "text": [
      "Meryl Streep\n"
     ]
    },
    {
     "name": "stderr",
     "output_type": "stream",
     "text": [
      " 30%|███       | 3/10 [00:46<01:50, 15.77s/it]"
     ]
    },
    {
     "name": "stdout",
     "output_type": "stream",
     "text": [
      "Cher\n"
     ]
    },
    {
     "name": "stderr",
     "output_type": "stream",
     "text": [
      " 40%|████      | 4/10 [01:03<01:36, 16.14s/it]"
     ]
    },
    {
     "name": "stdout",
     "output_type": "stream",
     "text": [
      "Andy Garcia\n"
     ]
    },
    {
     "name": "stderr",
     "output_type": "stream",
     "text": [
      " 50%|█████     | 5/10 [01:20<01:21, 16.21s/it]"
     ]
    },
    {
     "name": "stdout",
     "output_type": "stream",
     "text": [
      "Celia Imrie\n"
     ]
    },
    {
     "name": "stderr",
     "output_type": "stream",
     "text": [
      " 60%|██████    | 6/10 [01:36<01:04, 16.19s/it]"
     ]
    },
    {
     "name": "stdout",
     "output_type": "stream",
     "text": [
      "Alexa Davies\n"
     ]
    },
    {
     "name": "stderr",
     "output_type": "stream",
     "text": [
      " 70%|███████   | 7/10 [01:52<00:48, 16.30s/it]"
     ]
    },
    {
     "name": "stdout",
     "output_type": "stream",
     "text": [
      "Jessica Keenan Wynn\n"
     ]
    },
    {
     "name": "stderr",
     "output_type": "stream",
     "text": [
      " 80%|████████  | 8/10 [02:09<00:32, 16.45s/it]"
     ]
    },
    {
     "name": "stdout",
     "output_type": "stream",
     "text": [
      "Dominic Cooper\n"
     ]
    },
    {
     "name": "stderr",
     "output_type": "stream",
     "text": [
      " 90%|█████████ | 9/10 [02:26<00:16, 16.47s/it]"
     ]
    },
    {
     "name": "stdout",
     "output_type": "stream",
     "text": [
      "Julie Walters\n"
     ]
    },
    {
     "name": "stderr",
     "output_type": "stream",
     "text": [
      "100%|██████████| 10/10 [02:42<00:00, 16.27s/it]\n"
     ]
    }
   ],
   "source": [
    "driver = webdriver.Chrome()\n",
    "driver.maximize_window()\n",
    "\n",
    "driver.get(\"https://www.imdb.com/\")\n",
    "lista_detalles_actores = []\n",
    "\n",
    "for tupla in lista_tupla_actores[:3]:\n",
    "    for actor in tqdm(tupla[:-1]):\n",
    "        lista_actores = []\n",
    "        print(actor)\n",
    "        sleep(7)\n",
    "        driver.find_element(\"css selector\", \"#suggestion-search\").send_keys(actor, Keys.ENTER)\n",
    "            \n",
    "        sleep(3)\n",
    "        \n",
    "        driver.find_element(\"css selector\", \"#__next > main > div.ipc-page-content-container.ipc-page-content-container--full.sc-872d7ac7-0.fqEQWL > div.ipc-page-content-container.ipc-page-content-container--center > section > div > div.ipc-page-grid__item.ipc-page-grid__item--span-2 > section:nth-child(3) > div.sc-17bafbdb-2.iUyFfD > ul > li:nth-child(1)\").click()\n",
    "        \n",
    "        lista_caracteristicas = []\n",
    "        #Sacamos año de nacimiento\n",
    "        try:\n",
    "            año = driver.find_element(\"xpath\", '//*[@id=\"__next\"]/main/div/section[1]/section/div[3]/section/section/div[3]/div[2]/div[2]/section/aside/div/span[2]').text.split(\" \")[-1]\n",
    "                  \n",
    "            lista_caracteristicas.append(año)                  \n",
    "            \n",
    "        except:            \n",
    "            lista_caracteristicas.append(\"Desconocido\")\n",
    "        \n",
    "        #Sacamos el top de las peliculas por las que es conocido/a    \n",
    "\n",
    "        try: \n",
    "            conocido = driver.find_element(\"xpath\",'//*[@id=\"__next\"]/main/div/section[1]/div/section/div/div[1]/div[3]/section[1]/div[2]').text\n",
    "        except: \n",
    "            conocido=\"Sin datos\"\n",
    "        \n",
    "        #Sacamos las profesiones     \n",
    "        try:   \n",
    "            que_hace = driver.find_element(\"xpath\", '//*[@id=\"__next\"]/main/div/section[1]/section/div[3]/section/section/div[2]/div/ul').text.replace(\"\\n\", ', ')\n",
    "        \n",
    "        except:\n",
    "            que_hace=\"Sin datos\"\n",
    "        \n",
    "        try: \n",
    "            oscar= driver.find_element(\"xpath\", '//*[@id=\"__next\"]/main/div/section[1]/div/section/div/div[1]/section[1]/div/ul/li/a[1]').text\n",
    "            if \"Ganó\" in oscar: \n",
    "                lista_caracteristicas.append(oscar)\n",
    "            else: \n",
    "                lista_caracteristicas.append(\"Nominado\")\n",
    "        except: \n",
    "            lista_caracteristicas.append(\"No tiene galardones ni nominaciones\")\n",
    "            \n",
    "\n",
    "        lista_caracteristicas.append(actor)  \n",
    "        lista_caracteristicas.append(conocido.split(\"\\n\")[::4])\n",
    "        lista_caracteristicas.append(que_hace)\n",
    "        lista_detalles_actores.append(tuple(lista_caracteristicas))\n",
    "        driver.back()\n",
    "            \n",
    "\n",
    "    #driver.close()"
   ]
  },
  {
   "cell_type": "code",
   "execution_count": 20,
   "metadata": {},
   "outputs": [
    {
     "data": {
      "text/plain": [
       "[('1989',\n",
       "  'Nominado',\n",
       "  'Lily James',\n",
       "  ['Cenicienta',\n",
       "   'Orgullo + Prejuicio + Zombis',\n",
       "   'Mamma Mia! Una y otra vez',\n",
       "   'Baby Driver'],\n",
       "  'Reparto, Producción, Banda sonora'),\n",
       " ('1985',\n",
       "  'Nominado',\n",
       "  'Amanda Seyfried',\n",
       "  ['Los miserables', 'Chicas malas', 'Querido John', 'Mamma Mia! La película'],\n",
       "  'Reparto, Producción, Banda sonora'),\n",
       " ('1949',\n",
       "  'Ganó 3 premios Óscar',\n",
       "  'Meryl Streep',\n",
       "  ['Memorias de África', 'Agosto', 'La decisión de Sophie', 'Into the Woods'],\n",
       "  'Reparto, Producción, Equipos adicionales'),\n",
       " ('1946',\n",
       "  'Ganó 1 premio Óscar',\n",
       "  'Cher',\n",
       "  ['Hechizo de luna', 'Burlesque', 'Sirenas', 'Máscara'],\n",
       "  'Music Artist, Reparto, Producción'),\n",
       " ('1956',\n",
       "  'Nominado',\n",
       "  'Andy Garcia',\n",
       "  [\"Ocean's Eleven: Hagan juego\",\n",
       "   'El padrino (parte III)',\n",
       "   'La ciudad perdida',\n",
       "   \"Ocean's Twelve: Uno más entra en juego\"],\n",
       "  'Reparto, Producción, Dirección'),\n",
       " ('1952',\n",
       "  'Nominado',\n",
       "  'Celia Imrie',\n",
       "  ['El exótico Hotel Marigold',\n",
       "   'Rosas Rojas',\n",
       "   'Las chicas del calendario',\n",
       "   'La niñera mágica'],\n",
       "  'Reparto, Banda sonora'),\n",
       " ('1995',\n",
       "  'No tiene galardones ni nominaciones',\n",
       "  'Alexa Davies',\n",
       "  ['Los crímenes de Essex',\n",
       "   '2020 • 6 episodios',\n",
       "   'Meg',\n",
       "   'Young Rosie',\n",
       "   'Serie de TV'],\n",
       "  'Reparto, Banda sonora'),\n",
       " ('junio',\n",
       "  'No tiene galardones ni nominaciones',\n",
       "  'Jessica Keenan Wynn',\n",
       "  ['Mamma Mia! Una y otra vez',\n",
       "   'La apariencia de las cosas',\n",
       "   'La chica del tren',\n",
       "   'A Killer Party: A Murder Mystery Musical',\n",
       "   '2020 • 8 episodios'],\n",
       "  'Reparto, Equipos adicionales, Guion'),\n",
       " ('1978',\n",
       "  'Nominado',\n",
       "  'Dominic Cooper',\n",
       "  ['El doble del diablo',\n",
       "   'Mi semana con Marilyn',\n",
       "   'Capitán América: El primer vengador',\n",
       "   'Abraham Lincoln: Cazador de vampiros'],\n",
       "  'Reparto, Producción, Banda sonora'),\n",
       " ('1950',\n",
       "  'Nominado',\n",
       "  'Julie Walters',\n",
       "  ['Billy Elliot (Quiero bailar)',\n",
       "   'Mamma Mia! La película',\n",
       "   'Brooklyn',\n",
       "   'Harry Potter y las Reliquias de la Muerte: Parte 2'],\n",
       "  'Reparto, Banda sonora')]"
      ]
     },
     "execution_count": 20,
     "metadata": {},
     "output_type": "execute_result"
    }
   ],
   "source": [
    "lista_detalles_actores"
   ]
  },
  {
   "cell_type": "code",
   "execution_count": null,
   "metadata": {},
   "outputs": [],
   "source": [
    "#__next > main > div > section.ipc-page-background.ipc-page-background--base.sc-304f99f6-0.eaRXHu > section > div:nth-child(4) > section > section > div.sc-e226b0e3-3.jJsEuz > div > ul > li:nth-child(1)"
   ]
  },
  {
   "cell_type": "code",
   "execution_count": null,
   "metadata": {},
   "outputs": [],
   "source": [
    "#__next > main > div > section.ipc-page-background.ipc-page-background--base.sc-304f99f6-0.eaRXHu > section > div:nth-child(4) > section > section > div.sc-e226b0e3-3.jJsEuz > div > ul > li"
   ]
  },
  {
   "cell_type": "code",
   "execution_count": 33,
   "metadata": {},
   "outputs": [
    {
     "data": {
      "text/plain": [
       "[('1961',\n",
       "  'Eddie Murphy',\n",
       "  \"The Nutty Professor (El profesor chiflado)  Sherman KlumpBuddy LoveLance Perkins 1996 Dreamgirls  James 'Thunder' Early 2006 El príncipe de Zamunda  Prince AkeemClarenceSaul 1988 Noches de Harlem  Quick 1989\",\n",
       "  'Reparto, Guion, Producción')]"
      ]
     },
     "execution_count": 33,
     "metadata": {},
     "output_type": "execute_result"
    }
   ],
   "source": [
    "lista_detalles_actores"
   ]
  }
 ],
 "metadata": {
  "kernelspec": {
   "display_name": "promof",
   "language": "python",
   "name": "python3"
  },
  "language_info": {
   "codemirror_mode": {
    "name": "ipython",
    "version": 3
   },
   "file_extension": ".py",
   "mimetype": "text/x-python",
   "name": "python",
   "nbconvert_exporter": "python",
   "pygments_lexer": "ipython3",
   "version": "3.10.7"
  }
 },
 "nbformat": 4,
 "nbformat_minor": 2
}
