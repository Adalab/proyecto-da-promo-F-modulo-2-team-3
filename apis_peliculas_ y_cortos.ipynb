{
 "cells": [
  {
   "cell_type": "markdown",
   "metadata": {},
   "source": [
    "*FASE 1: EXTRACCIÓN DE API*\n",
    "\n",
    "Hacer solicitudes a esta API y extraer información relevante sobre las películas. En concreto tendreis que sacar la siguiente información:\n",
    "\n",
    "- Películas desde el 1990 hasta la actualidad.\n",
    "- Películas que pertenezcan a los siguientes géneros: Drama, Comedy, Action, Fantasy, Horror, Mystery, Romance, Thriller.\n",
    "- De cada una de las películas tendreis que sacar la siguiente información:\n",
    "- Tipo (si es corto o película).\n",
    "- Nombre de la película o el corto.\n",
    "- Año de estreno de la película o corto.\n",
    "- Mes de estreno de la película o corto.\n",
    "- Id de la película.\n",
    "\n",
    "NOTA: La información de la API deberá ser almacenada en una lista de tuplas. Cada tupla corresponderá a una película. Siguiendo el siguiente ejemplo:\n",
    "[(\"Pelicula\", \"Titanic\", 1997, 12, \"abc123\"), (\"Pelicula\", \"Los Gonnies\", 1985, 6, \"abc456\"), ...] ---> LISTA DE TUPLAS"
   ]
  },
  {
   "cell_type": "code",
   "execution_count": 68,
   "metadata": {},
   "outputs": [
    {
     "name": "stdout",
     "output_type": "stream",
     "text": [
      "{'page': 1, 'next': '/titles?endYear=2022&startYear=1990&genre=Drama&page=2', 'entries': 10, 'results': [{'_id': '61e584ead735dff3f9422c4b', 'id': 'tt0429087', 'primaryImage': {'id': 'rm3004956673', 'width': 675, 'height': 1000, 'url': 'https://m.media-amazon.com/images/M/MV5BMjU0ZmU1NTItNmRjNS00MjRkLWE0MDctYWMyNDY0YTA3ZDc4XkEyXkFqcGdeQXVyMDM2NDM2MQ@@._V1_.jpg', 'caption': {'plainText': 'Charlie Hunnam in Shantaram (2022)', '__typename': 'Markdown'}, '__typename': 'Image'}, 'titleType': {'text': 'TV Series', 'id': 'tvSeries', 'isSeries': True, 'isEpisode': False, 'categories': [{'value': 'tv', '__typename': 'TitleTypeCategory'}], 'canHaveEpisodes': True, '__typename': 'TitleType'}, 'titleText': {'text': 'Shantaram', '__typename': 'TitleText'}, 'originalTitleText': {'text': 'Shantaram', '__typename': 'TitleText'}, 'releaseYear': {'year': 2022, 'endYear': 2022, '__typename': 'YearRange'}, 'releaseDate': {'day': 14, 'month': 10, 'year': 2022, '__typename': 'ReleaseDate'}}, {'_id': '61e58920d8f3c0931e431dcf', 'id': 'tt0808491', 'primaryImage': {'id': 'rm1496121601', 'width': 1500, 'height': 2125, 'url': 'https://m.media-amazon.com/images/M/MV5BYzYzN2MzNjgtOTFlMC00MzIzLWI0YjgtZGJiNzg5MzVkYjgwXkEyXkFqcGdeQXVyOTEwNTkyNjE@._V1_.jpg', 'caption': {'plainText': 'The Swarm (2022)', '__typename': 'Markdown'}, '__typename': 'Image'}, 'titleType': {'text': 'TV Series', 'id': 'tvSeries', 'isSeries': True, 'isEpisode': False, 'categories': [{'value': 'tv', '__typename': 'TitleTypeCategory'}], 'canHaveEpisodes': True, '__typename': 'TitleType'}, 'titleText': {'text': 'The Swarm', '__typename': 'TitleText'}, 'originalTitleText': {'text': 'The Swarm', '__typename': 'TitleText'}, 'releaseYear': {'year': 2022, 'endYear': None, '__typename': 'YearRange'}, 'releaseDate': {'day': None, 'month': None, 'year': 2022, '__typename': 'ReleaseDate'}}, {'_id': '61e58ad2ef99b1c5434380e1', 'id': 'tt0965381', 'primaryImage': {'id': 'rm3017329409', 'width': 3508, 'height': 4961, 'url': 'https://m.media-amazon.com/images/M/MV5BODgzZDk1NzEtODhkYi00NTJhLWJjYTUtNTMxY2I3MDg3ZmE0XkEyXkFqcGdeQXVyNDI3OTE4ODE@._V1_.jpg', 'caption': {'plainText': 'Milli Vanilli (2022)', '__typename': 'Markdown'}, '__typename': 'Image'}, 'titleType': {'text': 'Movie', 'id': 'movie', 'isSeries': False, 'isEpisode': False, 'categories': [{'value': 'movie', '__typename': 'TitleTypeCategory'}], 'canHaveEpisodes': False, '__typename': 'TitleType'}, 'titleText': {'text': 'Milli Vanilli', '__typename': 'TitleText'}, 'originalTitleText': {'text': 'Milli Vanilli', '__typename': 'TitleText'}, 'releaseYear': {'year': 2022, 'endYear': None, '__typename': 'YearRange'}, 'releaseDate': {'day': None, 'month': None, 'year': 2022, '__typename': 'ReleaseDate'}}, {'_id': '61e58b2ea66e5964234395bd', 'id': 'tt10001728', 'primaryImage': {'id': 'rm3808227585', 'width': 1200, 'height': 1584, 'url': 'https://m.media-amazon.com/images/M/MV5BNDFmZDljNWYtMWY4Zi00YWI3LWFjOTgtOWFhYTBmN2EzZWIwXkEyXkFqcGdeQXVyNDE4NTE4MQ@@._V1_.jpg', 'caption': {'plainText': 'Kill Switch (2022)', '__typename': 'Markdown'}, '__typename': 'Image'}, 'titleType': {'text': 'Short', 'id': 'short', 'isSeries': False, 'isEpisode': False, '__typename': 'TitleType'}, 'titleText': {'text': 'Kill Switch', '__typename': 'TitleText'}, 'originalTitleText': {'text': 'Kill Switch', '__typename': 'TitleText'}, 'releaseYear': {'year': 2022, 'endYear': None, '__typename': 'YearRange'}, 'releaseDate': {'day': None, 'month': 10, 'year': 2022, '__typename': 'ReleaseDate'}}, {'_id': '61e58b3378c012aa34439601', 'id': 'tt10003926', 'primaryImage': {'id': 'rm2662392577', 'width': 1200, 'height': 1822, 'url': 'https://m.media-amazon.com/images/M/MV5BZjMzMWFlMzQtN2Y1NC00YWNjLWE4ZTctM2U5M2Q3OTM0ZThkXkEyXkFqcGdeQXVyMjIwMTAzNzU@._V1_.jpg', 'caption': {'plainText': 'Fermí Reixach in Siempre Yo (2022)', '__typename': 'Markdown'}, '__typename': 'Image'}, 'titleType': {'text': 'Short', 'id': 'short', 'isSeries': False, 'isEpisode': False, 'categories': [{'value': 'movie', '__typename': 'TitleTypeCategory'}], 'canHaveEpisodes': False, '__typename': 'TitleType'}, 'titleText': {'text': 'Siempre Yo', '__typename': 'TitleText'}, 'originalTitleText': {'text': 'Siempre Yo', '__typename': 'TitleText'}, 'releaseYear': {'year': 2022, 'endYear': None, '__typename': 'YearRange'}, 'releaseDate': {'day': 1, 'month': 3, 'year': 2022, '__typename': 'ReleaseDate'}}, {'_id': '61e58b3f971a4a15d6439b17', 'id': 'tt10011314', 'primaryImage': {'id': 'rm2727614721', 'width': 1500, 'height': 2172, 'url': 'https://m.media-amazon.com/images/M/MV5BZWE5ODc4MzMtYWI2OC00M2M2LWI3MTctODFiZWRjMzJjYzIzXkEyXkFqcGdeQXVyMTEzMTI1Mjk3._V1_.jpg', 'caption': {'plainText': 'Vampire in the Garden (2022)', '__typename': 'Markdown'}, '__typename': 'Image'}, 'titleType': {'text': 'TV Series', 'id': 'tvSeries', 'isSeries': True, 'isEpisode': False, 'categories': [{'value': 'tv', '__typename': 'TitleTypeCategory'}], 'canHaveEpisodes': True, '__typename': 'TitleType'}, 'titleText': {'text': 'Vampire in the Garden', '__typename': 'TitleText'}, 'originalTitleText': {'text': 'Vampire in the Garden', '__typename': 'TitleText'}, 'releaseYear': {'year': 2022, 'endYear': 2022, '__typename': 'YearRange'}, 'releaseDate': {'day': 16, 'month': 5, 'year': 2022, '__typename': 'ReleaseDate'}}, {'_id': '61e58b578a5a6a599f43a1e9', 'id': 'tt10028196', 'primaryImage': {'id': 'rm1058277633', 'width': 2215, 'height': 2953, 'url': 'https://m.media-amazon.com/images/M/MV5BMmQ4OTEyOTctMmFkOC00N2M4LWIyMDEtN2Y1MzQ0NzMzNDJlXkEyXkFqcGdeQXVyODE5NzE3OTE@._V1_.jpg', 'caption': {'plainText': 'Kareena Kapoor, Aamir Khan, Mona Singh, Manav Vij, and Naga Chaitanya Akkineni in Laal Singh Chaddha (2022)', '__typename': 'Markdown'}, '__typename': 'Image'}, 'titleType': {'text': 'Movie', 'id': 'movie', 'isSeries': False, 'isEpisode': False, 'categories': [{'value': 'movie', '__typename': 'TitleTypeCategory'}], 'canHaveEpisodes': False, '__typename': 'TitleType'}, 'titleText': {'text': 'Laal Singh Chaddha', '__typename': 'TitleText'}, 'originalTitleText': {'text': 'Laal Singh Chaddha', '__typename': 'TitleText'}, 'releaseYear': {'year': 2022, 'endYear': None, '__typename': 'YearRange'}, 'releaseDate': {'day': 11, 'month': 8, 'year': 2022, '__typename': 'ReleaseDate'}}, {'_id': '61e58b77b597b91eb943a80f', 'id': 'tt10047904', 'primaryImage': {'id': 'rm2811362817', 'width': 1448, 'height': 2048, 'url': 'https://m.media-amazon.com/images/M/MV5BOGQwNzBhODUtYjlkMS00NGU5LTlhNTgtZjIwZWIwZGZkYTRlXkEyXkFqcGdeQXVyNzg5OTk2OA@@._V1_.jpg', 'caption': {'plainText': 'Darkling (2022)', '__typename': 'Markdown'}, '__typename': 'Image'}, 'titleType': {'text': 'Movie', 'id': 'movie', 'isSeries': False, 'isEpisode': False, 'categories': [{'value': 'movie', '__typename': 'TitleTypeCategory'}], 'canHaveEpisodes': False, '__typename': 'TitleType'}, 'titleText': {'text': 'Darkling', '__typename': 'TitleText'}, 'originalTitleText': {'text': 'Mrak', '__typename': 'TitleText'}, 'releaseYear': {'year': 2022, 'endYear': None, '__typename': 'YearRange'}, 'releaseDate': {'day': 21, 'month': 4, 'year': 2022, '__typename': 'ReleaseDate'}}, {'_id': '61e58b7ab597b91eb943a90d', 'id': 'tt10049720', 'primaryImage': {'id': 'rm2063436545', 'width': 2494, 'height': 3786, 'url': 'https://m.media-amazon.com/images/M/MV5BMzJkYzIxMTItNWU1OS00MWQ1LWFjMjItYTI5OTgwZGI4NTAxXkEyXkFqcGdeQXVyNzQ0NzU2OA@@._V1_.jpg', 'caption': {'plainText': \"Kevin Porter, Annalicia Aguilar, Kristine Stokes, Morgan Witkop, Steve Filice, William d'Anthony, Peter Marshall Smith, Joey Ruggiero, Jeremiah Crothers, Joe Barra, Emily Lines, and Michael Joseph Nelson in Charlie Hustle (2022)\", '__typename': 'Markdown'}, '__typename': 'Image'}, 'titleType': {'text': 'Movie', 'id': 'movie', 'isSeries': False, 'isEpisode': False, 'categories': [{'value': 'movie', '__typename': 'TitleTypeCategory'}], 'canHaveEpisodes': False, '__typename': 'TitleType'}, 'titleText': {'text': 'Charlie Hustle', '__typename': 'TitleText'}, 'originalTitleText': {'text': 'Charlie Hustle', '__typename': 'TitleText'}, 'releaseYear': {'year': 2022, 'endYear': None, '__typename': 'YearRange'}, 'releaseDate': {'day': None, 'month': None, 'year': 2022, '__typename': 'ReleaseDate'}}, {'_id': '61e58b85909c2ca78143aaa9', 'id': 'tt10054992', 'primaryImage': {'id': 'rm3703934977', 'width': 1536, 'height': 2048, 'url': 'https://m.media-amazon.com/images/M/MV5BNzE5OGU0NmYtMjZkYi00YzExLTg1MDctNGUzZjI2NWI5YzA2XkEyXkFqcGdeQXVyMjA4MDMxNjI@._V1_.jpg', 'caption': {'plainText': 'Thomas Walton, Jared Safier, and Mary Jane Bulseco in D.O.P.E. UNIT (2022)', '__typename': 'Markdown'}, '__typename': 'Image'}, 'titleType': {'text': 'TV Series', 'id': 'tvSeries', 'isSeries': True, 'isEpisode': False, 'categories': [{'value': 'tv', '__typename': 'TitleTypeCategory'}], 'canHaveEpisodes': True, '__typename': 'TitleType'}, 'titleText': {'text': 'D.O.P.E. UNIT', '__typename': 'TitleText'}, 'originalTitleText': {'text': 'D.O.P.E. UNIT', '__typename': 'TitleText'}, 'releaseYear': {'year': 2022, 'endYear': None, '__typename': 'YearRange'}, 'releaseDate': {'day': None, 'month': None, 'year': 2022, '__typename': 'ReleaseDate'}}]}\n"
     ]
    }
   ],
   "source": [
    "import requests\n",
    "#Busqueda para Drama entre 1990 y 2022. Falta el parametro de page={}\n",
    "url = \"https://moviesdatabase.p.rapidapi.com/titles\"\n",
    "\n",
    "querystring = {\"genre\":\"Drama\",\"startYear\":\"1990\",\"endYear\":\"2022\"}\n",
    "\n",
    "headers = {\n",
    "\t\"X-RapidAPI-Key\": \"f6331b74eemshe555eab401ff0ccp18d045jsneaa4425720fb\",\n",
    "\t\"X-RapidAPI-Host\": \"moviesdatabase.p.rapidapi.com\"\n",
    "}\n",
    "\n",
    "response = requests.get(url, headers=headers, params=querystring)\n",
    "\n",
    "print(response.json())"
   ]
  },
  {
   "cell_type": "code",
   "execution_count": null,
   "metadata": {},
   "outputs": [],
   "source": [
    "#Accedemos por claves en el Json\n",
    "llamada[\"next\"]\n",
    "llamada[\"entries\"]\n",
    "type(llamada[\"results\"])\n",
    "llamada[\"results\"][0]"
   ]
  },
  {
   "cell_type": "code",
   "execution_count": 73,
   "metadata": {},
   "outputs": [],
   "source": [
    "#Pasos previos que utilizamos para sacar la informacion necesaria en un solo elemento\n",
    "nombre=llamada[\"results\"][0][\"titleText\"][\"text\"]\n",
    "tipo=llamada[\"results\"][0][\"titleType\"][\"text\"]\n",
    "año_estreno=llamada[\"results\"][0][\"releaseYear\"][\"year\"]\n",
    "id_pelicula=llamada[\"results\"][0][\"id\"]\n",
    "mes_estreno=llamada[\"results\"][0][\"releaseDate\"][\"month\"]"
   ]
  },
  {
   "cell_type": "code",
   "execution_count": null,
   "metadata": {},
   "outputs": [],
   "source": [
    "#Primer codigo al que llegamos para transformar de lista a lista de tuplas. Prueba con un solo año\n",
    "lista_tuplas=[]\n",
    "\n",
    "for pelicula in llamada[\"results\"]:\n",
    "    \n",
    "    lista_peliculas_y_cortos=[]\n",
    "    \n",
    "    nombre=pelicula[\"titleText\"][\"text\"]\n",
    "    tipo=pelicula[\"titleType\"][\"text\"]\n",
    "    año_estreno=pelicula[\"releaseYear\"][\"year\"]\n",
    "    mes_estreno=pelicula[\"releaseDate\"][\"month\"]\n",
    "    id_pelicula=pelicula[\"id\"]\n",
    "    \n",
    "    lista_peliculas_y_cortos.append(nombre)\n",
    "    lista_peliculas_y_cortos.append(tipo)\n",
    "    lista_peliculas_y_cortos.append(año_estreno)\n",
    "    lista_peliculas_y_cortos.append(mes_estreno)\n",
    "    lista_peliculas_y_cortos.append(id_pelicula)\n",
    "    \n",
    "    \n",
    "    lista_tuplas.append(tuple(lista_peliculas_y_cortos))\n",
    "    \n",
    "lista_tuplas"
   ]
  },
  {
   "cell_type": "code",
   "execution_count": 50,
   "metadata": {},
   "outputs": [
    {
     "name": "stdout",
     "output_type": "stream",
     "text": [
      "[(), ('Movie', 'Humlaa', 1992, 5, 'tt0102073'), ('Movie', 'Humlaa', 1992, 5, 'tt0102073', 'Movie', 'The Last Riders', 1992, 2, 'tt0102275'), ('Movie', 'Humlaa', 1992, 5, 'tt0102073', 'Movie', 'The Last Riders', 1992, 2, 'tt0102275'), ('Movie', 'Humlaa', 1992, 5, 'tt0102073', 'Movie', 'The Last Riders', 1992, 2, 'tt0102275'), ('Movie', 'Humlaa', 1992, 5, 'tt0102073', 'Movie', 'The Last Riders', 1992, 2, 'tt0102275'), ('Movie', 'Humlaa', 1992, 5, 'tt0102073', 'Movie', 'The Last Riders', 1992, 2, 'tt0102275', 'Movie', 'Backsliding', 1992, 3, 'tt0101395'), ('Movie', 'Humlaa', 1992, 5, 'tt0102073', 'Movie', 'The Last Riders', 1992, 2, 'tt0102275', 'Movie', 'Backsliding', 1992, 3, 'tt0101395', 'Movie', 'Mo jong yuen So Hak Yee', 1992, 12, 'tt0100963'), ('Movie', 'Humlaa', 1992, 5, 'tt0102073', 'Movie', 'The Last Riders', 1992, 2, 'tt0102275', 'Movie', 'Backsliding', 1992, 3, 'tt0101395', 'Movie', 'Mo jong yuen So Hak Yee', 1992, 12, 'tt0100963', 'Movie', 'Bordertown Cafe', 1992, None, 'tt0101499'), ('Movie', 'Humlaa', 1992, 5, 'tt0102073', 'Movie', 'The Last Riders', 1992, 2, 'tt0102275', 'Movie', 'Backsliding', 1992, 3, 'tt0101395', 'Movie', 'Mo jong yuen So Hak Yee', 1992, 12, 'tt0100963', 'Movie', 'Bordertown Cafe', 1992, None, 'tt0101499')]\n"
     ]
    }
   ],
   "source": [
    "#Hemos introducico rango para paginas\n",
    "#Año 1990 a 1991\n",
    "#Mirara lo que nos devuelve porque  esta mal\n",
    "import requests\n",
    "\n",
    "for i in range(1,5):\n",
    "\turl = f\"https://moviesdatabase.p.rapidapi.com/titles?page={i}\"\n",
    "\n",
    "\tquerystring = {\"genre\":\"Drama\",\"startYear\":\"1990\",\"endYear\":\"1992\"}\n",
    "\n",
    "\theaders = {\n",
    "\t\t\"X-RapidAPI-Key\": \"f6331b74eemshe555eab401ff0ccp18d045jsneaa4425720fb\",\n",
    "\t\t\"X-RapidAPI-Host\": \"moviesdatabase.p.rapidapi.com\"\n",
    "\t}\n",
    "\n",
    "\tresponse = requests.get(url, headers=headers, params=querystring)\n",
    "\n",
    "\tllamada=response.json()\n",
    "\n",
    "\t#print(llamada)\n",
    "\n",
    "\n",
    "lista_tuplas=[]\n",
    "lista_peliculas_y_cortos=[]\n",
    "for pelicula in llamada[\"results\"]:\n",
    "\t\t\n",
    "    #lista_peliculas_y_cortos=[]\n",
    "\t\t\n",
    "\tnombre=pelicula[\"titleText\"][\"text\"]\n",
    "\ttipo=pelicula[\"titleType\"][\"text\"]\n",
    "\taño_estreno=pelicula[\"releaseYear\"][\"year\"]\n",
    "\tmes_estreno=pelicula[\"releaseDate\"][\"month\"]\n",
    "\tid_pelicula=pelicula[\"id\"]\n",
    "\n",
    "\tif tipo == 'Movie' or tipo == 'Short':\n",
    "\t\tlista_peliculas_y_cortos.append(tipo)\n",
    "\t\tlista_peliculas_y_cortos.append(nombre)\n",
    "\t\tlista_peliculas_y_cortos.append(año_estreno)\n",
    "\t\tlista_peliculas_y_cortos.append(mes_estreno)\n",
    "\t\tlista_peliculas_y_cortos.append(id_pelicula)\n",
    "\telse:\n",
    "\t\tpass\n",
    "\t\t\t\n",
    "\t\t\t\n",
    "\tlista_tuplas.append(tuple(lista_peliculas_y_cortos))\n",
    "\n",
    "print(lista_tuplas)"
   ]
  },
  {
   "cell_type": "code",
   "execution_count": 38,
   "metadata": {},
   "outputs": [
    {
     "name": "stdout",
     "output_type": "stream",
     "text": [
      "['Movie', \"Amelia Lópes O'Neill\", 1991, 2, 'tt0099027', 'Movie', 'Chaindance', 1991, 4, 'tt0099236', 'Movie', 'Cheb', 1991, 4, 'tt0099244', 'Movie', 'Payback', 1991, 3, 'tt0100342', 'Movie', 'Games of Desire', 1991, 4, 'tt0099632']\n"
     ]
    }
   ],
   "source": [
    "#Filtro para acceder y quedarnos solamente con las movies y Short\n",
    "#No nos devolvió una lista de tuplas.\n",
    "lista_tuplas=[]\n",
    "\n",
    "lista_peliculas_y_cortos=[]\n",
    "for pelicula in llamada[\"results\"]:\n",
    "\t\t\n",
    "  \n",
    "            \n",
    "    nombre=pelicula[\"titleText\"][\"text\"]\n",
    "    tipo=pelicula[\"titleType\"][\"text\"]\n",
    "    año_estreno=pelicula[\"releaseYear\"][\"year\"]\n",
    "    mes_estreno=pelicula[\"releaseDate\"][\"month\"]\n",
    "    id_pelicula=pelicula[\"id\"]    \n",
    "\n",
    "    if tipo == 'Movie' tipo == 'Short':\n",
    "        lista_peliculas_y_cortos.append(tipo)\n",
    "        lista_peliculas_y_cortos.append(nombre)\n",
    "        lista_peliculas_y_cortos.append(año_estreno)\n",
    "        lista_peliculas_y_cortos.append(mes_estreno)\n",
    "        lista_peliculas_y_cortos.append(id_pelicula)\n",
    "    else:\n",
    "        pass\n",
    "\n",
    " \n",
    "\t\t\n",
    "\t\t\n",
    "lista_tuplas.append(tuple(lista_peliculas_y_cortos))\n",
    "\n",
    "print(lista_peliculas_y_cortos)"
   ]
  }
 ],
 "metadata": {
  "kernelspec": {
   "display_name": "base",
   "language": "python",
   "name": "python3"
  },
  "language_info": {
   "codemirror_mode": {
    "name": "ipython",
    "version": 3
   },
   "file_extension": ".py",
   "mimetype": "text/x-python",
   "name": "python",
   "nbconvert_exporter": "python",
   "pygments_lexer": "ipython3",
   "version": "3.9.7"
  }
 },
 "nbformat": 4,
 "nbformat_minor": 2
}
