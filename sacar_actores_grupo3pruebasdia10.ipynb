{
 "cells": [
  {
   "cell_type": "code",
   "execution_count": 1,
   "metadata": {},
   "outputs": [],
   "source": [
    "import requests\n",
    "import pandas as pd\n",
    "\n",
    "# Importar librerías para web scraping y manipulación de datos\n",
    "# -----------------------------------------------------------------------\n",
    "from bs4 import BeautifulSoup\n",
    "import requests\n",
    "\n",
    "\n",
    "from tqdm import tqdm\n",
    "\n",
    "# Importar librerías para automatización de navegadores web con Selenium\n",
    "# -----------------------------------------------------------------------\n",
    "from selenium import webdriver  # Selenium es una herramienta para automatizar la interacción con navegadores web.\n",
    "from webdriver_manager.chrome import ChromeDriverManager  # ChromeDriverManager gestiona la instalación del controlador de Chrome.\n",
    "from selenium.webdriver.common.keys import Keys  # Keys es útil para simular eventos de teclado en Selenium.\n",
    "\n",
    "# Importar librerías para pausar la ejecución\n",
    "# -----------------------------------------------------------------------\n",
    "from time import sleep  # Sleep se utiliza para pausar la ejecución del programa por un número de segundos."
   ]
  },
  {
   "cell_type": "code",
   "execution_count": 2,
   "metadata": {},
   "outputs": [],
   "source": [
    "import re"
   ]
  },
  {
   "cell_type": "code",
   "execution_count": 3,
   "metadata": {},
   "outputs": [],
   "source": [
    "lista_prueba = [('tt0099044',   'Another 48 Hrs.',   'Walter Hill',   'John Fasano Roger Spottiswoode Jeb Stuart', '1h 35min',   '5.9',   'Jack Cates vuelve a contar con la ayuda del exconvicto Reggie Hammond, esta vez para acabar con El Témpano, un despiadado capo de la droga que opera en la zona de la bahía de San Francisco.'),  ('tt0097259',   'Easy Kill',   'Josh Spencer',   'Greg Latter',   '1h 29min',   '3.8',   'A bar owner/ex cop winds up in a scheme involving drug smuggling, murder, and seduction.'),  ('tt0099240',   'Janggunui adeul',   'Im Kwon-taek',   'Song-yu Hong Sam-yuk Yoon',   '1h 48min',   '6.4',   \"The first chapter of the the General's Son trilogy follows Kim Du-Han's childhood, from the loss of his mother at age 8, to his rise as a gang leader who protects local vendors from expanding Yakuza forces in Japanese occupied Korea.\", 'tt0405889',\n",
    "  'Duelo de rufianes',   'No especificado',   'No especificado',  '1h 30min', 'No se facilita puntuación', 'No se facilita argumento')]\n"
   ]
  },
  {
   "cell_type": "code",
   "execution_count": null,
   "metadata": {},
   "outputs": [],
   "source": []
  },
  {
   "cell_type": "markdown",
   "metadata": {},
   "source": [
    "# Actores por peli"
   ]
  },
  {
   "cell_type": "code",
   "execution_count": 4,
   "metadata": {},
   "outputs": [
    {
     "name": "stderr",
     "output_type": "stream",
     "text": [
      "  0%|          | 0/3 [00:12<?, ?it/s]\n"
     ]
    },
    {
     "ename": "NoSuchElementException",
     "evalue": "Message: no such element: Unable to locate element: {\"method\":\"css selector\",\"selector\":\"#__next > main > div > section.ipc-page-background.ipc-page-background--base.sc-304f99f6-0.eaRXHu > section > div:nth-child(4) > section > section > div.sc-66ec1b32-0.bGqWwh > div > div:nth-child(2) > ul > li:nth-child(1) > a\"}\n  (Session info: chrome=119.0.6045.106); For documentation on this error, please visit: https://www.selenium.dev/documentation/webdriver/troubleshooting/errors#no-such-element-exception\nStacktrace:\n\tGetHandleVerifier [0x00007FF6D04082B2+55298]\n\t(No symbol) [0x00007FF6D0375E02]\n\t(No symbol) [0x00007FF6D02305AB]\n\t(No symbol) [0x00007FF6D027175C]\n\t(No symbol) [0x00007FF6D02718DC]\n\t(No symbol) [0x00007FF6D02ACBC7]\n\t(No symbol) [0x00007FF6D02920EF]\n\t(No symbol) [0x00007FF6D02AAAA4]\n\t(No symbol) [0x00007FF6D0291E83]\n\t(No symbol) [0x00007FF6D026670A]\n\t(No symbol) [0x00007FF6D0267964]\n\tGetHandleVerifier [0x00007FF6D0780AAB+3694587]\n\tGetHandleVerifier [0x00007FF6D07D728E+4048862]\n\tGetHandleVerifier [0x00007FF6D07CF173+4015811]\n\tGetHandleVerifier [0x00007FF6D04A47D6+695590]\n\t(No symbol) [0x00007FF6D0380CE8]\n\t(No symbol) [0x00007FF6D037CF34]\n\t(No symbol) [0x00007FF6D037D062]\n\t(No symbol) [0x00007FF6D036D3A3]\n\tBaseThreadInitThunk [0x00007FFB67BA257D+29]\n\tRtlUserThreadStart [0x00007FFB69B2AA78+40]\n",
     "output_type": "error",
     "traceback": [
      "\u001b[1;31m---------------------------------------------------------------------------\u001b[0m",
      "\u001b[1;31mNoSuchElementException\u001b[0m                    Traceback (most recent call last)",
      "\u001b[1;32mc:\\Users\\lucia\\OneDrive\\Escritorio\\ADALAB\\MODULO 2\\EQUIPO 3\\sacar_actores_grupo3pruebas10.ipynb Cell 6\u001b[0m line \u001b[0;36m1\n\u001b[0;32m     <a href='vscode-notebook-cell:/c%3A/Users/lucia/OneDrive/Escritorio/ADALAB/MODULO%202/EQUIPO%203/sacar_actores_grupo3pruebas10.ipynb#W5sZmlsZQ%3D%3D?line=9'>10</a>\u001b[0m driver\u001b[39m.\u001b[39mfind_element(\u001b[39m\"\u001b[39m\u001b[39mcss selector\u001b[39m\u001b[39m\"\u001b[39m, \u001b[39m\"\u001b[39m\u001b[39m#suggestion-search\u001b[39m\u001b[39m\"\u001b[39m)\u001b[39m.\u001b[39msend_keys(tupla[\u001b[39m0\u001b[39m], Keys\u001b[39m.\u001b[39mENTER)\n\u001b[0;32m     <a href='vscode-notebook-cell:/c%3A/Users/lucia/OneDrive/Escritorio/ADALAB/MODULO%202/EQUIPO%203/sacar_actores_grupo3pruebas10.ipynb#W5sZmlsZQ%3D%3D?line=10'>11</a>\u001b[0m sleep(\u001b[39m3\u001b[39m)\n\u001b[1;32m---> <a href='vscode-notebook-cell:/c%3A/Users/lucia/OneDrive/Escritorio/ADALAB/MODULO%202/EQUIPO%203/sacar_actores_grupo3pruebas10.ipynb#W5sZmlsZQ%3D%3D?line=11'>12</a>\u001b[0m driver\u001b[39m.\u001b[39;49mfind_element(\u001b[39m\"\u001b[39;49m\u001b[39mcss selector\u001b[39;49m\u001b[39m\"\u001b[39;49m, \u001b[39m\"\u001b[39;49m\u001b[39m#__next > main > div > section.ipc-page-background.ipc-page-background--base.sc-304f99f6-0.eaRXHu > section > div:nth-child(4) > section > section > div.sc-66ec1b32-0.bGqWwh > div > div:nth-child(2) > ul > li:nth-child(1) > a\u001b[39;49m\u001b[39m\"\u001b[39;49m)\u001b[39m.\u001b[39mclick()\n\u001b[0;32m     <a href='vscode-notebook-cell:/c%3A/Users/lucia/OneDrive/Escritorio/ADALAB/MODULO%202/EQUIPO%203/sacar_actores_grupo3pruebas10.ipynb#W5sZmlsZQ%3D%3D?line=12'>13</a>\u001b[0m sleep(\u001b[39m3\u001b[39m)\n\u001b[0;32m     <a href='vscode-notebook-cell:/c%3A/Users/lucia/OneDrive/Escritorio/ADALAB/MODULO%202/EQUIPO%203/sacar_actores_grupo3pruebas10.ipynb#W5sZmlsZQ%3D%3D?line=14'>15</a>\u001b[0m lista_actores \u001b[39m=\u001b[39m []\n",
      "File \u001b[1;32m~\\AppData\\Local\\Packages\\PythonSoftwareFoundation.Python.3.11_qbz5n2kfra8p0\\LocalCache\\local-packages\\Python311\\site-packages\\selenium\\webdriver\\remote\\webdriver.py:738\u001b[0m, in \u001b[0;36mWebDriver.find_element\u001b[1;34m(self, by, value)\u001b[0m\n\u001b[0;32m    735\u001b[0m     by \u001b[39m=\u001b[39m By\u001b[39m.\u001b[39mCSS_SELECTOR\n\u001b[0;32m    736\u001b[0m     value \u001b[39m=\u001b[39m \u001b[39mf\u001b[39m\u001b[39m'\u001b[39m\u001b[39m[name=\u001b[39m\u001b[39m\"\u001b[39m\u001b[39m{\u001b[39;00mvalue\u001b[39m}\u001b[39;00m\u001b[39m\"\u001b[39m\u001b[39m]\u001b[39m\u001b[39m'\u001b[39m\n\u001b[1;32m--> 738\u001b[0m \u001b[39mreturn\u001b[39;00m \u001b[39mself\u001b[39;49m\u001b[39m.\u001b[39;49mexecute(Command\u001b[39m.\u001b[39;49mFIND_ELEMENT, {\u001b[39m\"\u001b[39;49m\u001b[39musing\u001b[39;49m\u001b[39m\"\u001b[39;49m: by, \u001b[39m\"\u001b[39;49m\u001b[39mvalue\u001b[39;49m\u001b[39m\"\u001b[39;49m: value})[\u001b[39m\"\u001b[39m\u001b[39mvalue\u001b[39m\u001b[39m\"\u001b[39m]\n",
      "File \u001b[1;32m~\\AppData\\Local\\Packages\\PythonSoftwareFoundation.Python.3.11_qbz5n2kfra8p0\\LocalCache\\local-packages\\Python311\\site-packages\\selenium\\webdriver\\remote\\webdriver.py:344\u001b[0m, in \u001b[0;36mWebDriver.execute\u001b[1;34m(self, driver_command, params)\u001b[0m\n\u001b[0;32m    342\u001b[0m response \u001b[39m=\u001b[39m \u001b[39mself\u001b[39m\u001b[39m.\u001b[39mcommand_executor\u001b[39m.\u001b[39mexecute(driver_command, params)\n\u001b[0;32m    343\u001b[0m \u001b[39mif\u001b[39;00m response:\n\u001b[1;32m--> 344\u001b[0m     \u001b[39mself\u001b[39;49m\u001b[39m.\u001b[39;49merror_handler\u001b[39m.\u001b[39;49mcheck_response(response)\n\u001b[0;32m    345\u001b[0m     response[\u001b[39m\"\u001b[39m\u001b[39mvalue\u001b[39m\u001b[39m\"\u001b[39m] \u001b[39m=\u001b[39m \u001b[39mself\u001b[39m\u001b[39m.\u001b[39m_unwrap_value(response\u001b[39m.\u001b[39mget(\u001b[39m\"\u001b[39m\u001b[39mvalue\u001b[39m\u001b[39m\"\u001b[39m, \u001b[39mNone\u001b[39;00m))\n\u001b[0;32m    346\u001b[0m     \u001b[39mreturn\u001b[39;00m response\n",
      "File \u001b[1;32m~\\AppData\\Local\\Packages\\PythonSoftwareFoundation.Python.3.11_qbz5n2kfra8p0\\LocalCache\\local-packages\\Python311\\site-packages\\selenium\\webdriver\\remote\\errorhandler.py:229\u001b[0m, in \u001b[0;36mErrorHandler.check_response\u001b[1;34m(self, response)\u001b[0m\n\u001b[0;32m    227\u001b[0m         alert_text \u001b[39m=\u001b[39m value[\u001b[39m\"\u001b[39m\u001b[39malert\u001b[39m\u001b[39m\"\u001b[39m]\u001b[39m.\u001b[39mget(\u001b[39m\"\u001b[39m\u001b[39mtext\u001b[39m\u001b[39m\"\u001b[39m)\n\u001b[0;32m    228\u001b[0m     \u001b[39mraise\u001b[39;00m exception_class(message, screen, stacktrace, alert_text)  \u001b[39m# type: ignore[call-arg]  # mypy is not smart enough here\u001b[39;00m\n\u001b[1;32m--> 229\u001b[0m \u001b[39mraise\u001b[39;00m exception_class(message, screen, stacktrace)\n",
      "\u001b[1;31mNoSuchElementException\u001b[0m: Message: no such element: Unable to locate element: {\"method\":\"css selector\",\"selector\":\"#__next > main > div > section.ipc-page-background.ipc-page-background--base.sc-304f99f6-0.eaRXHu > section > div:nth-child(4) > section > section > div.sc-66ec1b32-0.bGqWwh > div > div:nth-child(2) > ul > li:nth-child(1) > a\"}\n  (Session info: chrome=119.0.6045.106); For documentation on this error, please visit: https://www.selenium.dev/documentation/webdriver/troubleshooting/errors#no-such-element-exception\nStacktrace:\n\tGetHandleVerifier [0x00007FF6D04082B2+55298]\n\t(No symbol) [0x00007FF6D0375E02]\n\t(No symbol) [0x00007FF6D02305AB]\n\t(No symbol) [0x00007FF6D027175C]\n\t(No symbol) [0x00007FF6D02718DC]\n\t(No symbol) [0x00007FF6D02ACBC7]\n\t(No symbol) [0x00007FF6D02920EF]\n\t(No symbol) [0x00007FF6D02AAAA4]\n\t(No symbol) [0x00007FF6D0291E83]\n\t(No symbol) [0x00007FF6D026670A]\n\t(No symbol) [0x00007FF6D0267964]\n\tGetHandleVerifier [0x00007FF6D0780AAB+3694587]\n\tGetHandleVerifier [0x00007FF6D07D728E+4048862]\n\tGetHandleVerifier [0x00007FF6D07CF173+4015811]\n\tGetHandleVerifier [0x00007FF6D04A47D6+695590]\n\t(No symbol) [0x00007FF6D0380CE8]\n\t(No symbol) [0x00007FF6D037CF34]\n\t(No symbol) [0x00007FF6D037D062]\n\t(No symbol) [0x00007FF6D036D3A3]\n\tBaseThreadInitThunk [0x00007FFB67BA257D+29]\n\tRtlUserThreadStart [0x00007FFB69B2AA78+40]\n"
     ]
    }
   ],
   "source": [
    "driver = webdriver.Chrome()\n",
    "\n",
    "driver.maximize_window()\n",
    "\n",
    "driver.get(\"https://www.imdb.com/\")\n",
    "\n",
    "lista_tupla_actores = []\n",
    "sleep(3)\n",
    "for tupla in tqdm(lista_prueba):\n",
    "    driver.find_element(\"css selector\", \"#suggestion-search\").send_keys(tupla[0], Keys.ENTER)\n",
    "    sleep(3)\n",
    "    driver.find_element(\"css selector\", \"#__next > main > div > section.ipc-page-background.ipc-page-background--base.sc-304f99f6-0.eaRXHu > section > div:nth-child(4) > section > section > div.sc-66ec1b32-0.bGqWwh > div > div:nth-child(2) > ul > li:nth-child(1) > a\").click()\n",
    "    sleep(3)\n",
    "    \n",
    "    lista_actores = []\n",
    "    for i in range(2, 12):\n",
    "        try:\n",
    "            lista_actores.append(driver.find_element(\"css selector\", f\"#fullcredits_content > table.cast_list > tbody > tr:nth-child({i}) > td:nth-child(2) > a\").text)\n",
    "           \n",
    "        except:            \n",
    "            break\n",
    "    lista_actores.append(tupla[1])\n",
    "    lista_tupla_actores.append(tuple(lista_actores))\n",
    "\n",
    "    driver.back()\n",
    "\n",
    "driver.close()   \n"
   ]
  },
  {
   "cell_type": "code",
   "execution_count": 8,
   "metadata": {},
   "outputs": [
    {
     "data": {
      "text/plain": [
       "[('Eddie Murphy',\n",
       "  'Nick Nolte',\n",
       "  'Brion James',\n",
       "  'Kevin Tighe',\n",
       "  \"Ed O'Ross\",\n",
       "  'David Anthony Marshall',\n",
       "  'Andrew Divoff',\n",
       "  'Bernie Casey',\n",
       "  'Brent Jennings',\n",
       "  'Ted Markland',\n",
       "  'Another 48 Hrs.'),\n",
       " ('Frank Stallone',\n",
       "  'Jane Badler',\n",
       "  'Cameron Mitchell',\n",
       "  'Shayne Leith',\n",
       "  'Elliot Frantz',\n",
       "  'Deon Stewardson',\n",
       "  'Rick Skidmore',\n",
       "  'J. Everett Leck',\n",
       "  'Mark Lancaster',\n",
       "  'Hal Orlandini',\n",
       "  'Easy Kill'),\n",
       " ('Sang-min Park',\n",
       "  'Hyeon-jun Shin',\n",
       "  'Il-jae Lee',\n",
       "  'Bang Eun-hee',\n",
       "  'Hyeong-il Kim',\n",
       "  'Janggunui adeul')]"
      ]
     },
     "execution_count": 8,
     "metadata": {},
     "output_type": "execute_result"
    }
   ],
   "source": [
    "lista_tupla_actores"
   ]
  },
  {
   "cell_type": "markdown",
   "metadata": {},
   "source": [
    "# Caracteristicas de los actores"
   ]
  },
  {
   "cell_type": "code",
   "execution_count": null,
   "metadata": {},
   "outputs": [],
   "source": [
    "#EL PROBLEMA ES EL AÑO DE NACIMIENTO"
   ]
  },
  {
   "cell_type": "code",
   "execution_count": null,
   "metadata": {},
   "outputs": [],
   "source": [
    "# no borrar celda siguiente es el ejemplo de aana"
   ]
  },
  {
   "cell_type": "code",
   "execution_count": null,
   "metadata": {},
   "outputs": [
    {
     "data": {
      "text/plain": [
       "[(' 1941',\n",
       "  \"Born in '45\\n6.4\\nLisa, genannt Li\\n1990\\nDie Glatzkopfbande\\n5.5\\nWaltraud\\n1963\\nJetzt und in der Stunde meines Todes\\n7.4\\nAngelika Hecht\\n1963\\nDas verhexte Fischerdorf\\n5.1\\nEvelyn\\n1962\",\n",
       "  'Actress',\n",
       "  'Monika Hildebrand'),\n",
       " (' 1935',\n",
       "  'He Du!\\n6.9\\nMaxe Krahl(as Rolf Specht)\\n1970\\nTecumseh\\n5.6\\nSimon McKew\\n1972\\nChingachgook, die grosse Schlange\\n6.0\\nWildtöterDeerslayer\\n1967\\nDer Mord, der nie verjährt\\nLiepmann\\n1968',\n",
       "  'Actor',\n",
       "  'Rolf Römer'),\n",
       " ('desconocido', \"Born in '45\\n6.4\\nMogul\\n1990\", 'Actor', 'Paul Eichbaum')]"
      ]
     },
     "execution_count": 18,
     "metadata": {},
     "output_type": "execute_result"
    }
   ],
   "source": [
    "lista_detalles_actores"
   ]
  },
  {
   "cell_type": "code",
   "execution_count": 40,
   "metadata": {},
   "outputs": [
    {
     "name": "stderr",
     "output_type": "stream",
     "text": [
      "  0%|          | 0/10 [00:00<?, ?it/s]"
     ]
    },
    {
     "name": "stdout",
     "output_type": "stream",
     "text": [
      "Eddie Murphy\n"
     ]
    },
    {
     "name": "stderr",
     "output_type": "stream",
     "text": [
      "  0%|          | 0/10 [00:19<?, ?it/s]\n"
     ]
    },
    {
     "ename": "NoSuchElementException",
     "evalue": "Message: no such element: Unable to locate element: {\"method\":\"css selector\",\"selector\":\"#__next > main > div.ipc-page-content-container.ipc-page-content-container--full.sc-383f2ac5-0.bfcGjo > div.ipc-page-content-container.ipc-page-content-container--center > section > div > div.ipc-page-grid__item.ipc-page-grid__item--span-2 > section:nth-child(3) > div.sc-17bafbdb-2.ffAEHI > ul > li:nth-child(1)\"}\n  (Session info: chrome=119.0.6045.106); For documentation on this error, please visit: https://www.selenium.dev/documentation/webdriver/troubleshooting/errors#no-such-element-exception\nStacktrace:\n\tGetHandleVerifier [0x00007FF6D04082B2+55298]\n\t(No symbol) [0x00007FF6D0375E02]\n\t(No symbol) [0x00007FF6D02305AB]\n\t(No symbol) [0x00007FF6D027175C]\n\t(No symbol) [0x00007FF6D02718DC]\n\t(No symbol) [0x00007FF6D02ACBC7]\n\t(No symbol) [0x00007FF6D02920EF]\n\t(No symbol) [0x00007FF6D02AAAA4]\n\t(No symbol) [0x00007FF6D0291E83]\n\t(No symbol) [0x00007FF6D026670A]\n\t(No symbol) [0x00007FF6D0267964]\n\tGetHandleVerifier [0x00007FF6D0780AAB+3694587]\n\tGetHandleVerifier [0x00007FF6D07D728E+4048862]\n\tGetHandleVerifier [0x00007FF6D07CF173+4015811]\n\tGetHandleVerifier [0x00007FF6D04A47D6+695590]\n\t(No symbol) [0x00007FF6D0380CE8]\n\t(No symbol) [0x00007FF6D037CF34]\n\t(No symbol) [0x00007FF6D037D062]\n\t(No symbol) [0x00007FF6D036D3A3]\n\tBaseThreadInitThunk [0x00007FFB67BA257D+29]\n\tRtlUserThreadStart [0x00007FFB69B2AA78+40]\n",
     "output_type": "error",
     "traceback": [
      "\u001b[1;31m---------------------------------------------------------------------------\u001b[0m",
      "\u001b[1;31mNoSuchElementException\u001b[0m                    Traceback (most recent call last)",
      "\u001b[1;32mc:\\Users\\lucia\\OneDrive\\Escritorio\\ADALAB\\MODULO 2\\EQUIPO 3\\sacar_actores_grupo3pruebas10.ipynb Cell 13\u001b[0m line \u001b[0;36m1\n\u001b[0;32m     <a href='vscode-notebook-cell:/c%3A/Users/lucia/OneDrive/Escritorio/ADALAB/MODULO%202/EQUIPO%203/sacar_actores_grupo3pruebas10.ipynb#X26sZmlsZQ%3D%3D?line=11'>12</a>\u001b[0m driver\u001b[39m.\u001b[39mfind_element(\u001b[39m\"\u001b[39m\u001b[39mcss selector\u001b[39m\u001b[39m\"\u001b[39m, \u001b[39m\"\u001b[39m\u001b[39m#suggestion-search\u001b[39m\u001b[39m\"\u001b[39m)\u001b[39m.\u001b[39msend_keys(actor, Keys\u001b[39m.\u001b[39mENTER)\n\u001b[0;32m     <a href='vscode-notebook-cell:/c%3A/Users/lucia/OneDrive/Escritorio/ADALAB/MODULO%202/EQUIPO%203/sacar_actores_grupo3pruebas10.ipynb#X26sZmlsZQ%3D%3D?line=13'>14</a>\u001b[0m sleep(\u001b[39m7\u001b[39m)\n\u001b[1;32m---> <a href='vscode-notebook-cell:/c%3A/Users/lucia/OneDrive/Escritorio/ADALAB/MODULO%202/EQUIPO%203/sacar_actores_grupo3pruebas10.ipynb#X26sZmlsZQ%3D%3D?line=14'>15</a>\u001b[0m driver\u001b[39m.\u001b[39;49mfind_element(\u001b[39m\"\u001b[39;49m\u001b[39mcss selector\u001b[39;49m\u001b[39m\"\u001b[39;49m, \u001b[39m\"\u001b[39;49m\u001b[39m#__next > main > div.ipc-page-content-container.ipc-page-content-container--full.sc-383f2ac5-0.bfcGjo > div.ipc-page-content-container.ipc-page-content-container--center > section > div > div.ipc-page-grid__item.ipc-page-grid__item--span-2 > section:nth-child(3) > div.sc-17bafbdb-2.ffAEHI > ul > li:nth-child(1)\u001b[39;49m\u001b[39m\"\u001b[39;49m)\u001b[39m.\u001b[39mclick()\n\u001b[0;32m     <a href='vscode-notebook-cell:/c%3A/Users/lucia/OneDrive/Escritorio/ADALAB/MODULO%202/EQUIPO%203/sacar_actores_grupo3pruebas10.ipynb#X26sZmlsZQ%3D%3D?line=16'>17</a>\u001b[0m lista_caracteristicas \u001b[39m=\u001b[39m []\n\u001b[0;32m     <a href='vscode-notebook-cell:/c%3A/Users/lucia/OneDrive/Escritorio/ADALAB/MODULO%202/EQUIPO%203/sacar_actores_grupo3pruebas10.ipynb#X26sZmlsZQ%3D%3D?line=18'>19</a>\u001b[0m \u001b[39mtry\u001b[39;00m:\n",
      "File \u001b[1;32m~\\AppData\\Local\\Packages\\PythonSoftwareFoundation.Python.3.11_qbz5n2kfra8p0\\LocalCache\\local-packages\\Python311\\site-packages\\selenium\\webdriver\\remote\\webdriver.py:738\u001b[0m, in \u001b[0;36mWebDriver.find_element\u001b[1;34m(self, by, value)\u001b[0m\n\u001b[0;32m    735\u001b[0m     by \u001b[39m=\u001b[39m By\u001b[39m.\u001b[39mCSS_SELECTOR\n\u001b[0;32m    736\u001b[0m     value \u001b[39m=\u001b[39m \u001b[39mf\u001b[39m\u001b[39m'\u001b[39m\u001b[39m[name=\u001b[39m\u001b[39m\"\u001b[39m\u001b[39m{\u001b[39;00mvalue\u001b[39m}\u001b[39;00m\u001b[39m\"\u001b[39m\u001b[39m]\u001b[39m\u001b[39m'\u001b[39m\n\u001b[1;32m--> 738\u001b[0m \u001b[39mreturn\u001b[39;00m \u001b[39mself\u001b[39;49m\u001b[39m.\u001b[39;49mexecute(Command\u001b[39m.\u001b[39;49mFIND_ELEMENT, {\u001b[39m\"\u001b[39;49m\u001b[39musing\u001b[39;49m\u001b[39m\"\u001b[39;49m: by, \u001b[39m\"\u001b[39;49m\u001b[39mvalue\u001b[39;49m\u001b[39m\"\u001b[39;49m: value})[\u001b[39m\"\u001b[39m\u001b[39mvalue\u001b[39m\u001b[39m\"\u001b[39m]\n",
      "File \u001b[1;32m~\\AppData\\Local\\Packages\\PythonSoftwareFoundation.Python.3.11_qbz5n2kfra8p0\\LocalCache\\local-packages\\Python311\\site-packages\\selenium\\webdriver\\remote\\webdriver.py:344\u001b[0m, in \u001b[0;36mWebDriver.execute\u001b[1;34m(self, driver_command, params)\u001b[0m\n\u001b[0;32m    342\u001b[0m response \u001b[39m=\u001b[39m \u001b[39mself\u001b[39m\u001b[39m.\u001b[39mcommand_executor\u001b[39m.\u001b[39mexecute(driver_command, params)\n\u001b[0;32m    343\u001b[0m \u001b[39mif\u001b[39;00m response:\n\u001b[1;32m--> 344\u001b[0m     \u001b[39mself\u001b[39;49m\u001b[39m.\u001b[39;49merror_handler\u001b[39m.\u001b[39;49mcheck_response(response)\n\u001b[0;32m    345\u001b[0m     response[\u001b[39m\"\u001b[39m\u001b[39mvalue\u001b[39m\u001b[39m\"\u001b[39m] \u001b[39m=\u001b[39m \u001b[39mself\u001b[39m\u001b[39m.\u001b[39m_unwrap_value(response\u001b[39m.\u001b[39mget(\u001b[39m\"\u001b[39m\u001b[39mvalue\u001b[39m\u001b[39m\"\u001b[39m, \u001b[39mNone\u001b[39;00m))\n\u001b[0;32m    346\u001b[0m     \u001b[39mreturn\u001b[39;00m response\n",
      "File \u001b[1;32m~\\AppData\\Local\\Packages\\PythonSoftwareFoundation.Python.3.11_qbz5n2kfra8p0\\LocalCache\\local-packages\\Python311\\site-packages\\selenium\\webdriver\\remote\\errorhandler.py:229\u001b[0m, in \u001b[0;36mErrorHandler.check_response\u001b[1;34m(self, response)\u001b[0m\n\u001b[0;32m    227\u001b[0m         alert_text \u001b[39m=\u001b[39m value[\u001b[39m\"\u001b[39m\u001b[39malert\u001b[39m\u001b[39m\"\u001b[39m]\u001b[39m.\u001b[39mget(\u001b[39m\"\u001b[39m\u001b[39mtext\u001b[39m\u001b[39m\"\u001b[39m)\n\u001b[0;32m    228\u001b[0m     \u001b[39mraise\u001b[39;00m exception_class(message, screen, stacktrace, alert_text)  \u001b[39m# type: ignore[call-arg]  # mypy is not smart enough here\u001b[39;00m\n\u001b[1;32m--> 229\u001b[0m \u001b[39mraise\u001b[39;00m exception_class(message, screen, stacktrace)\n",
      "\u001b[1;31mNoSuchElementException\u001b[0m: Message: no such element: Unable to locate element: {\"method\":\"css selector\",\"selector\":\"#__next > main > div.ipc-page-content-container.ipc-page-content-container--full.sc-383f2ac5-0.bfcGjo > div.ipc-page-content-container.ipc-page-content-container--center > section > div > div.ipc-page-grid__item.ipc-page-grid__item--span-2 > section:nth-child(3) > div.sc-17bafbdb-2.ffAEHI > ul > li:nth-child(1)\"}\n  (Session info: chrome=119.0.6045.106); For documentation on this error, please visit: https://www.selenium.dev/documentation/webdriver/troubleshooting/errors#no-such-element-exception\nStacktrace:\n\tGetHandleVerifier [0x00007FF6D04082B2+55298]\n\t(No symbol) [0x00007FF6D0375E02]\n\t(No symbol) [0x00007FF6D02305AB]\n\t(No symbol) [0x00007FF6D027175C]\n\t(No symbol) [0x00007FF6D02718DC]\n\t(No symbol) [0x00007FF6D02ACBC7]\n\t(No symbol) [0x00007FF6D02920EF]\n\t(No symbol) [0x00007FF6D02AAAA4]\n\t(No symbol) [0x00007FF6D0291E83]\n\t(No symbol) [0x00007FF6D026670A]\n\t(No symbol) [0x00007FF6D0267964]\n\tGetHandleVerifier [0x00007FF6D0780AAB+3694587]\n\tGetHandleVerifier [0x00007FF6D07D728E+4048862]\n\tGetHandleVerifier [0x00007FF6D07CF173+4015811]\n\tGetHandleVerifier [0x00007FF6D04A47D6+695590]\n\t(No symbol) [0x00007FF6D0380CE8]\n\t(No symbol) [0x00007FF6D037CF34]\n\t(No symbol) [0x00007FF6D037D062]\n\t(No symbol) [0x00007FF6D036D3A3]\n\tBaseThreadInitThunk [0x00007FFB67BA257D+29]\n\tRtlUserThreadStart [0x00007FFB69B2AA78+40]\n"
     ]
    }
   ],
   "source": [
    "driver = webdriver.Chrome()\n",
    "driver.maximize_window()\n",
    "\n",
    "driver.get(\"https://www.imdb.com/\")\n",
    "lista_detalles_actores = []\n",
    "\n",
    "for tupla in lista_tupla_actores[:3]:\n",
    "    for actor in tqdm(tupla[:-1]):\n",
    "        lista_actores = []\n",
    "        print(actor)\n",
    "        sleep(7)\n",
    "        driver.find_element(\"css selector\", \"#suggestion-search\").send_keys(actor, Keys.ENTER)\n",
    "            \n",
    "        sleep(7)\n",
    "        driver.find_element(\"css selector\", \"#__next > main > div.ipc-page-content-container.ipc-page-content-container--full.sc-383f2ac5-0.bfcGjo > div.ipc-page-content-container.ipc-page-content-container--center > section > div > div.ipc-page-grid__item.ipc-page-grid__item--span-2 > section:nth-child(3) > div.sc-17bafbdb-2.ffAEHI > ul > li:nth-child(1)\").click()\n",
    "        \n",
    "        lista_caracteristicas = []\n",
    "        \n",
    "        try:\n",
    "            año = driver.find_element(\"css selector\", \"#__next > main > div > section.ipc-page-background.ipc-page-background--base.sc-304f99f6-0.eaRXHu > section > div:nth-child(4) > section > section > div.sc-e226b0e3-4.ecgcFy > div.sc-e226b0e3-6.hfusNC > div.sc-e226b0e3-11.jSQoAO > section > aside > div > span:nth-child(2)\").text.split(\" \")[-1]\n",
    "                  \n",
    "            lista_caracteristicas.append(año)\n",
    "            \n",
    "            \n",
    "                            \n",
    "            \n",
    "        except:            \n",
    "            lista_caracteristicas.append(\"Desconocido\")\n",
    "\n",
    "            \n",
    "          \n",
    "\n",
    "        #conocido = driver.find_element(\"css selector\", \"#__next > main > div > section.ipc-page-background.ipc-page-background--base.sc-304f99f6-0.eaRXHu > div > section > div > div.sc-9178d6fe-1.kFxVZc.ipc-page-grid__item.ipc-page-grid__item--span-2 > div.celwidget > section:nth-child(1) > div.sc-a6d4b6c0-0.jGufEe > div > div.ipc-sub-grid.ipc-sub-grid--page-span-2.ipc-sub-grid--wraps-at-above-l.ipc-shoveler__grid\").text.replace(\"\\n\", ' ,')\n",
    "        #conocido_limpio = re.sub(r'\\d+,\\d+', '', conocido). \n",
    "\n",
    "\n",
    "        # selector Reyes para conocido\n",
    "        conocido = driver.find_element(\"css selector\",\"#__next > main > div > section.ipc-page-background.ipc-page-background--base.sc-304f99f6-0.fSJiHR > section > div:nth-child(4) > section > section > div.sc-e226b0e3-3.dwkouE > div > ul\").text\n",
    "\n",
    "        que_hace = driver.find_element(\"css selector\", \"#__next > main > div > section.ipc-page-background.ipc-page-background--base.sc-304f99f6-0.eaRXHu > section > div:nth-child(4) > section > section > div.sc-e226b0e3-3.jJsEuz > div > ul\").text.replace(\"\\n\", ', ')\n",
    "        #que_hace = driver.find_element(\"css selector\", \"#__next > main > div > section.ipc-page-background.ipc-page-background--base.sc-304f99f6-0.eaRXHu > section > div:nth-child(4) > section > section > div.sc-e226b0e3-3.jJsEuz > div > ul > li\").text\n",
    "        \n",
    "\n",
    "        lista_caracteristicas.append(actor)  \n",
    "        lista_caracteristicas.append(conocido)\n",
    "        lista_caracteristicas.append(que_hace)\n",
    "        lista_detalles_actores.append(tuple(lista_caracteristicas))\n",
    "        driver.back()\n",
    "            \n",
    "\n",
    "    #driver.close()"
   ]
  },
  {
   "cell_type": "code",
   "execution_count": 39,
   "metadata": {},
   "outputs": [
    {
     "data": {
      "text/plain": [
       "[]"
      ]
     },
     "execution_count": 39,
     "metadata": {},
     "output_type": "execute_result"
    }
   ],
   "source": [
    "lista_detalles_actores"
   ]
  },
  {
   "cell_type": "code",
   "execution_count": null,
   "metadata": {},
   "outputs": [],
   "source": [
    "#__next > main > div > section.ipc-page-background.ipc-page-background--base.sc-304f99f6-0.eaRXHu > section > div:nth-child(4) > section > section > div.sc-e226b0e3-3.jJsEuz > div > ul > li:nth-child(1)"
   ]
  },
  {
   "cell_type": "code",
   "execution_count": null,
   "metadata": {},
   "outputs": [],
   "source": [
    "#__next > main > div > section.ipc-page-background.ipc-page-background--base.sc-304f99f6-0.eaRXHu > section > div:nth-child(4) > section > section > div.sc-e226b0e3-3.jJsEuz > div > ul > li"
   ]
  },
  {
   "cell_type": "code",
   "execution_count": 33,
   "metadata": {},
   "outputs": [
    {
     "data": {
      "text/plain": [
       "[('1961',\n",
       "  'Eddie Murphy',\n",
       "  \"The Nutty Professor (El profesor chiflado)  Sherman KlumpBuddy LoveLance Perkins 1996 Dreamgirls  James 'Thunder' Early 2006 El príncipe de Zamunda  Prince AkeemClarenceSaul 1988 Noches de Harlem  Quick 1989\",\n",
       "  'Reparto, Guion, Producción')]"
      ]
     },
     "execution_count": 33,
     "metadata": {},
     "output_type": "execute_result"
    }
   ],
   "source": [
    "lista_detalles_actores"
   ]
  }
 ],
 "metadata": {
  "kernelspec": {
   "display_name": "promof",
   "language": "python",
   "name": "python3"
  },
  "language_info": {
   "codemirror_mode": {
    "name": "ipython",
    "version": 3
   },
   "file_extension": ".py",
   "mimetype": "text/x-python",
   "name": "python",
   "nbconvert_exporter": "python",
   "pygments_lexer": "ipython3",
   "version": "3.11.6"
  }
 },
 "nbformat": 4,
 "nbformat_minor": 2
}
