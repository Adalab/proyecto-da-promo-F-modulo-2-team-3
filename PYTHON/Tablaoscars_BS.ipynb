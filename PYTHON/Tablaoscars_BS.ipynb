{
 "cells": [
  {
   "cell_type": "code",
   "execution_count": 2,
   "metadata": {},
   "outputs": [],
   "source": [
    "from bs4 import BeautifulSoup\n",
    "import requests\n",
    "\n",
    "# Importar librerías para manipulación y análisis de datos\n",
    "# -----------------------------------------------------------------------\n",
    "import pandas as pd\n",
    "import numpy as np\n",
    "\n",
    "# Importar librerías para procesamiento de texto\n",
    "# -----------------------------------------------------------------------\n",
    "import re\n",
    "\n",
    "# Importar librería para la conexión con MySQL\n",
    "# -----------------------------------------------------------------------\n",
    "import mysql.connector\n",
    "from mysql.connector import errorcode"
   ]
  },
  {
   "cell_type": "code",
   "execution_count": null,
   "metadata": {},
   "outputs": [],
   "source": [
    "\n",
    "def tabla_oscars(url):\n",
    "\n",
    "    respuesta_oscars= requests.get(url)\n",
    "\n",
    "    sopa_oscars=BeautifulSoup(respuesta_oscars.content, 'html.parser')\n",
    "\n",
    "    tabla_premios=sopa_oscars.find('table', {'class': 'wikitable'})\n",
    "\n",
    "    cada_ceremonia= tabla_premios.find_all('tr')\n",
    "\n",
    "    ceremonias=[]\n",
    "\n",
    "    for fila in cada_ceremonia[1:]:\n",
    "        \n",
    "        celdas = fila.find_all('td')\n",
    "        ceremonia = celdas[1].text.strip()\n",
    "        \n",
    "        año_ceremonia = re.search(r'\\d{4}', ceremonia)   \n",
    "        año = int(año_ceremonia.group())  \n",
    "        \n",
    "        pelicula = celdas[2].text.strip()\n",
    "        \n",
    "        director = re.sub(r'\\([^)]*\\)', '', celdas[3].text.strip())\n",
    "        \n",
    "        actor = re.sub(r'\\([^)]*\\)', '', celdas[4].text.strip())\n",
    "        \n",
    "        actriz = re.sub(r'\\([^)]*\\)', '', celdas[5].text.strip())\n",
    "        \n",
    "        actor_reparto= re.sub(r'\\([^)]*\\)', '', celdas[6].text.strip())\n",
    "        \n",
    "        actriz_reparto=re.sub(r'\\([^)]*\\)', '', celdas[7].text.strip())\n",
    "        \n",
    "        tupla_ceremonia = (año, pelicula, director, actor, actriz, actor_reparto, actriz_reparto)\n",
    "        \n",
    "        ceremonias.append(tupla_ceremonia)\n",
    "\n",
    "    return ceremonias\n",
    "\n",
    "    "
   ]
  },
  {
   "cell_type": "code",
   "execution_count": null,
   "metadata": {},
   "outputs": [],
   "source": [
    "tabla_wikipedia=tabla_oscars(\"https://es.wikipedia.org/wiki/Premios_%C3%93scar\")"
   ]
  },
  {
   "cell_type": "code",
   "execution_count": null,
   "metadata": {},
   "outputs": [],
   "source": [
    "df_oscars = pd.DataFrame(tabla_wikipedia, columns=[\"Ceremonia\", \"Mejor película\", \"Mejor director\", \"Mejor actor\", \"Mejor actriz\", \"Mejor actor de reparto\", \"Mejor actriz de reparto\"])\n",
    "df_oscars"
   ]
  },
  {
   "cell_type": "code",
   "execution_count": 19,
   "metadata": {},
   "outputs": [],
   "source": [
    "df_oscars.to_csv (\"tabla_oscars.csv\", index=False)"
   ]
  },
  {
   "cell_type": "code",
   "execution_count": null,
   "metadata": {},
   "outputs": [],
   "source": [
    "#Cuando volvemos a abrir el CSV sustituimos los NaN por \"Sin datos\" para evitar errores en la carga en la BBDD de SQL\n",
    "\n",
    "df_oscars= pd.read_csv('tabla_oscars.csv')\n",
    "df_oscars.fillna(\"Sin datos\", inplace=True)"
   ]
  },
  {
   "cell_type": "code",
   "execution_count": null,
   "metadata": {},
   "outputs": [],
   "source": [
    "lista_oscars= [tuple(x) for x in df_oscars.values]"
   ]
  },
  {
   "cell_type": "code",
   "execution_count": null,
   "metadata": {},
   "outputs": [],
   "source": [
    "\n",
    "cnx = mysql.connector.connect(user='root', password='AlumnaAdalab',\n",
    "                              host='localhost', database='BHO')\n",
    "\n",
    "\n",
    "mycursor = cnx.cursor()\n",
    "sql = \"INSERT IGNORE INTO oscars (ceremonia, mejor_pelicula, mejor_director, mejor_actor, mejor_actriz, mejor_actor_reparto, mejor_actriz_reparto )VALUES (%s, %s,%s, %s,%s, %s,%s)\"\n",
    "\n",
    "try: \n",
    "    for fila in lista_oscars: \n",
    "        mycursor.execute(sql,fila)\n",
    "        cnx.commit()\n",
    "        print(mycursor.rowcount, \"registro/s insertado/s.\")\n",
    "\n",
    "except mysql.connector.Error as err:\n",
    "    print(err)\n",
    "    print(\"Error Code:\", err.errno)\n",
    "    print(\"SQLSTATE\", err.sqlstate)\n",
    "    print(\"Message\", err.msg)\n",
    "\n",
    "cnx.close()"
   ]
  }
 ],
 "metadata": {
  "kernelspec": {
   "display_name": "Python 3",
   "language": "python",
   "name": "python3"
  },
  "language_info": {
   "codemirror_mode": {
    "name": "ipython",
    "version": 3
   },
   "file_extension": ".py",
   "mimetype": "text/x-python",
   "name": "python",
   "nbconvert_exporter": "python",
   "pygments_lexer": "ipython3",
   "version": "3.10.7"
  }
 },
 "nbformat": 4,
 "nbformat_minor": 2
}
