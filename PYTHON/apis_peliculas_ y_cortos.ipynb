{
 "cells": [
  {
   "cell_type": "markdown",
   "metadata": {},
   "source": [
    "*FASE 1: EXTRACCIÓN DE API*\n",
    "\n",
    "Hacer solicitudes a esta API y extraer información relevante sobre las películas. En concreto tendreis que sacar la siguiente información:\n",
    "\n",
    "- Películas desde el 1990 hasta la actualidad.\n",
    "- Películas que pertenezcan a los siguientes géneros: Drama, Comedy, Action, Fantasy, Horror, Mystery, Romance, Thriller.\n",
    "- De cada una de las películas tendreis que sacar la siguiente información:\n",
    "- Tipo (si es corto o película).\n",
    "- Nombre de la película o el corto.\n",
    "- Año de estreno de la película o corto.\n",
    "- Mes de estreno de la película o corto.\n",
    "- Id de la película.\n",
    "\n",
    "NOTA: La información de la API deberá ser almacenada en una lista de tuplas. Cada tupla corresponderá a una película. Siguiendo el siguiente ejemplo:\n",
    "[(\"Pelicula\", \"Titanic\", 1997, 12, \"abc123\"), (\"Pelicula\", \"Los Gonnies\", 1985, 6, \"abc456\"), ...] ---> LISTA DE TUPLAS"
   ]
  },
  {
   "cell_type": "code",
   "execution_count": 2,
   "metadata": {},
   "outputs": [],
   "source": [
    "import requests\n",
    "import pandas as pd\n",
    "from time import sleep\n",
    "\n",
    "def extraccion_peliculas(genero, año_inicio, año_fin, tipo):\n",
    "    \n",
    "    lista_tuplas=[]\n",
    "    \n",
    "    for genero in genero:\n",
    "        \n",
    "        for año in range (año_inicio,año_fin):\n",
    "            \n",
    "            for pagina in range (1, 51):\n",
    "                \n",
    "                url = f\"https://moviesdatabase.p.rapidapi.com/titles?year={año}&genre={genero}&page={pagina}&titleType={tipo}t&limit=50\"\n",
    "                \n",
    "                headers = {\n",
    "                        \"X-RapidAPI-Key\": \"LA KEY CORRESPONDIENTE\",\n",
    "                        \"X-RapidAPI-Host\": \"moviesdatabase.p.rapidapi.com\"}\n",
    "                \n",
    "                response = requests.get(url, headers=headers)\n",
    "                llamada=response.json()\n",
    "                \n",
    "                print(response.status_code)\n",
    "                print(llamada[\"results\"])\n",
    "                for pelicula in llamada[\"results\"]:\n",
    "                    lista_peliculas_y_cortos=[]\n",
    "            \n",
    "                    nombre=pelicula[\"titleText\"][\"text\"]\n",
    "                    tipo=pelicula[\"titleType\"][\"text\"]\n",
    "                    año_estreno=pelicula[\"releaseYear\"][\"year\"]\n",
    "                    try: \n",
    "                        mes_estreno = pelicula[\"releaseDate\"][\"month\"]\n",
    "                    except:\n",
    "                        mes_estreno = \"None\" \n",
    "                    id_pelicula=pelicula[\"id\"]\n",
    "                    lista_peliculas_y_cortos.append(tipo)\n",
    "                    lista_peliculas_y_cortos.append(nombre)\n",
    "                    lista_peliculas_y_cortos.append(genero)\n",
    "                    lista_peliculas_y_cortos.append(año_estreno)\n",
    "                    lista_peliculas_y_cortos.append(mes_estreno)\n",
    "                    lista_peliculas_y_cortos.append(id_pelicula)\n",
    "                    lista_tuplas.append(tuple(lista_peliculas_y_cortos))\n",
    "                    if len(lista_peliculas_y_cortos)==0:\n",
    "                        break\n",
    "    return lista_tuplas\n",
    "\n"
   ]
  },
  {
   "cell_type": "code",
   "execution_count": null,
   "metadata": {},
   "outputs": [],
   "source": [
    "lista_pel=extraccion_peliculas(\"Comedy\", 1995,1996,\"Short\")"
   ]
  },
  {
   "cell_type": "code",
   "execution_count": null,
   "metadata": {},
   "outputs": [],
   "source": [
    "lista_pel"
   ]
  },
  {
   "cell_type": "code",
   "execution_count": null,
   "metadata": {},
   "outputs": [],
   "source": [
    "df=pd.DataFrame(lista_pel, columns=[\"Tipo\", \"Nombre\",\"Género\", \"Año\", \"Mes\", \"Id\"])\n",
    "\n",
    "df.head()\n",
    "df.drop_duplicates()\n"
   ]
  },
  {
   "cell_type": "code",
   "execution_count": 7,
   "metadata": {},
   "outputs": [
    {
     "data": {
      "text/plain": [
       "Tipo      object\n",
       "Nombre    object\n",
       "Género    object\n",
       "Año        int64\n",
       "Mes       object\n",
       "Id        object\n",
       "dtype: object"
      ]
     },
     "execution_count": 7,
     "metadata": {},
     "output_type": "execute_result"
    }
   ],
   "source": [
    "df.dtypes\n"
   ]
  },
  {
   "cell_type": "code",
   "execution_count": null,
   "metadata": {},
   "outputs": [],
   "source": [
    "df[\"Mes\"]=df[\"Mes\"].astype(\"float64\").astype(\"int64\")"
   ]
  },
  {
   "cell_type": "code",
   "execution_count": null,
   "metadata": {},
   "outputs": [],
   "source": [
    "df_=pd.concat([df_1,df_2,df_3], axis=0)\n",
    "df_"
   ]
  },
  {
   "cell_type": "code",
   "execution_count": 52,
   "metadata": {},
   "outputs": [],
   "source": [
    "df_.to_csv(\"datos_totales.csv\")"
   ]
  }
 ],
 "metadata": {
  "kernelspec": {
   "display_name": "base",
   "language": "python",
   "name": "python3"
  },
  "language_info": {
   "codemirror_mode": {
    "name": "ipython",
    "version": 3
   },
   "file_extension": ".py",
   "mimetype": "text/x-python",
   "name": "python",
   "nbconvert_exporter": "python",
   "pygments_lexer": "ipython3",
   "version": "3.10.7"
  }
 },
 "nbformat": 4,
 "nbformat_minor": 2
}
