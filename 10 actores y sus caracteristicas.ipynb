{
 "cells": [
  {
   "cell_type": "code",
   "execution_count": 8,
   "metadata": {},
   "outputs": [],
   "source": [
    "import requests\n",
    "import pandas as pd\n",
    "\n",
    "# Importar librerías para web scraping y manipulación de datos\n",
    "# -----------------------------------------------------------------------\n",
    "from bs4 import BeautifulSoup\n",
    "import requests\n",
    "\n",
    "\n",
    "from tqdm import tqdm\n",
    "\n",
    "# Importar librerías para automatización de navegadores web con Selenium\n",
    "# -----------------------------------------------------------------------\n",
    "from selenium import webdriver  # Selenium es una herramienta para automatizar la interacción con navegadores web.\n",
    "from webdriver_manager.chrome import ChromeDriverManager  # ChromeDriverManager gestiona la instalación del controlador de Chrome.\n",
    "from selenium.webdriver.common.keys import Keys  # Keys es útil para simular eventos de teclado en Selenium.\n",
    "\n",
    "# Importar librerías para pausar la ejecución\n",
    "# -----------------------------------------------------------------------\n",
    "from time import sleep  # Sleep se utiliza para pausar la ejecución del programa por un número de segundos."
   ]
  },
  {
   "cell_type": "code",
   "execution_count": 2,
   "metadata": {},
   "outputs": [],
   "source": [
    "import re"
   ]
  },
  {
   "cell_type": "code",
   "execution_count": 9,
   "metadata": {},
   "outputs": [],
   "source": [
    "pelis_imdb= pd.read_csv(\"caracteristicas_imdb.csv\", index_col=0)"
   ]
  },
  {
   "cell_type": "code",
   "execution_count": null,
   "metadata": {},
   "outputs": [],
   "source": [
    "lista_peliculas = [tuple(x) for x in pelis_imdb.values]"
   ]
  },
  {
   "cell_type": "markdown",
   "metadata": {},
   "source": [
    "# Actores por peli"
   ]
  },
  {
   "cell_type": "code",
   "execution_count": 16,
   "metadata": {},
   "outputs": [
    {
     "name": "stderr",
     "output_type": "stream",
     "text": [
      "100%|██████████| 1/1 [00:08<00:00,  8.30s/it]\n"
     ]
    }
   ],
   "source": [
    "def diez_actores(lista_peliculas):  \n",
    "    \n",
    "    driver = webdriver.Chrome()\n",
    "\n",
    "    driver.maximize_window()\n",
    "\n",
    "    driver.get(\"https://www.imdb.com/\")\n",
    "\n",
    "    lista_tupla_actores = []\n",
    "    \n",
    "    sleep(3)\n",
    "    \n",
    "    for tupla in tqdm(lista_peliculas):\n",
    "        \n",
    "        driver.find_element(\"css selector\", \"#suggestion-search\").send_keys(tupla[0], Keys.ENTER)\n",
    "        sleep(3)\n",
    "        \n",
    "        lista_actores = []\n",
    "        for i in range(1, 11):\n",
    "            try:\n",
    "                lista_actores.append(driver.find_element(\"css selector\", f\"#__next > main > div > section.ipc-page-background.ipc-page-background--base.sc-304f99f6-0.fSJiHR > div > section > div > div.sc-9178d6fe-1.fqVKQb.ipc-page-grid__item.ipc-page-grid__item--span-2 > section.ipc-page-section.ipc-page-section--base.sc-bfec09a1-0.jgUBLM.title-cast.title-cast--movie.celwidget > div.ipc-shoveler.ipc-shoveler--base.ipc-shoveler--page0.title-cast__grid > div.ipc-sub-grid.ipc-sub-grid--page-span-2.ipc-sub-grid--wraps-at-above-l.ipc-shoveler__grid > div:nth-child({i}) > div.sc-bfec09a1-7.gWwKlt > a\").text)\n",
    "            \n",
    "            except:            \n",
    "                break\n",
    "        lista_actores.append(tupla[1])\n",
    "        lista_tupla_actores.append(tuple(lista_actores))\n",
    "\n",
    "        driver.back()\n",
    "\n",
    "    driver.close()   \n",
    "    \n",
    "    return lista_tupla_actores\n"
   ]
  },
  {
   "cell_type": "code",
   "execution_count": null,
   "metadata": {},
   "outputs": [],
   "source": [
    "actores_por_peli=diez_actores(lista_peliculas)"
   ]
  },
  {
   "cell_type": "markdown",
   "metadata": {},
   "source": [
    "# Caracteristicas de los actores"
   ]
  },
  {
   "cell_type": "code",
   "execution_count": null,
   "metadata": {},
   "outputs": [],
   "source": [
    "def caracteristicas_actores(actores_por_peli):\n",
    "\n",
    "    driver = webdriver.Chrome()\n",
    "    driver.maximize_window()\n",
    "\n",
    "    driver.get(\"https://www.imdb.com/\")\n",
    "    lista_detalles_actores = []\n",
    "\n",
    "    for tupla in actores_por_peli:\n",
    "        \n",
    "        for actor in tqdm(tupla[1:]):\n",
    "        \n",
    "            print(actor)\n",
    "            sleep(7)\n",
    "            driver.find_element(\"css selector\", \"#suggestion-search\").send_keys(actor, Keys.ENTER)\n",
    "                \n",
    "            sleep(3)\n",
    "            \n",
    "            driver.find_element(\"css selector\", \"#__next > main > div.ipc-page-content-container.ipc-page-content-container--full.sc-872d7ac7-0.fqEQWL > div.ipc-page-content-container.ipc-page-content-container--center > section > div > div.ipc-page-grid__item.ipc-page-grid__item--span-2 > section:nth-child(3) > div.sc-17bafbdb-2.iUyFfD > ul > li:nth-child(1)\").click()\n",
    "            \n",
    "            lista_caracteristicas = []\n",
    "            #Sacamos año de nacimiento\n",
    "            try:\n",
    "                año = driver.find_element(\"xpath\", '//*[@id=\"__next\"]/main/div/section[1]/section/div[3]/section/section/div[3]/div[2]/div[2]/section/aside/div/span[2]').text.split(\" \")[-1]\n",
    "                    \n",
    "                lista_caracteristicas.append(año)                  \n",
    "                \n",
    "            except:            \n",
    "                lista_caracteristicas.append(\"Desconocido\")\n",
    "            \n",
    "            #Sacamos el top de las peliculas por las que es conocido/a    \n",
    "\n",
    "            try: \n",
    "                conocido = driver.find_element(\"xpath\",'//*[@id=\"__next\"]/main/div/section[1]/div/section/div/div[1]/div[3]/section[1]/div[2]').text\n",
    "            except: \n",
    "                conocido=\"Sin datos\"\n",
    "            \n",
    "            #Sacamos las profesiones     \n",
    "            try:   \n",
    "                que_hace = driver.find_element(\"xpath\", '//*[@id=\"__next\"]/main/div/section[1]/section/div[3]/section/section/div[2]/div/ul').text.replace(\"\\n\", ', ')\n",
    "            \n",
    "            except:\n",
    "                que_hace=\"Sin datos\"\n",
    "            \n",
    "            try: \n",
    "                oscar= driver.find_element(\"xpath\", '//*[@id=\"__next\"]/main/div/section[1]/div/section/div/div[1]/section[1]/div/ul/li/a[1]').text\n",
    "                if \"Ganó\" in oscar: \n",
    "                    lista_caracteristicas.append(oscar)\n",
    "                else: \n",
    "                    lista_caracteristicas.append(\"Nominado\")\n",
    "            except: \n",
    "                lista_caracteristicas.append(\"No tiene galardones ni nominaciones\")\n",
    "                \n",
    "\n",
    "            lista_caracteristicas.append(actor)  \n",
    "            lista_caracteristicas.append(conocido.split(\"\\n\")[::4])\n",
    "            lista_caracteristicas.append(que_hace)\n",
    "            lista_detalles_actores.append(tuple(lista_caracteristicas))\n",
    "            driver.back()\n",
    "        \n",
    "    driver.close()\n",
    "    \n",
    "    return lista_detalles_actores  \n"
   ]
  },
  {
   "cell_type": "code",
   "execution_count": null,
   "metadata": {},
   "outputs": [],
   "source": [
    "caracteristicas_imdb_actores=caracteristicas_actores(actores_por_peli)"
   ]
  },
  {
   "cell_type": "markdown",
   "metadata": {},
   "source": [
    "## Limpiar la tupla del resultado que nos devuelve el codigo de caracteristicas"
   ]
  },
  {
   "cell_type": "code",
   "execution_count": null,
   "metadata": {},
   "outputs": [],
   "source": [
    "#Una vez que tengamos la lista de las caracteristicas de los actores, tendremos que \n",
    "#Transformar la lista de tuplas en lista de listas \n",
    "lista_limpieza = [list(x) for x in caracteristicas_imdb_actores]"
   ]
  },
  {
   "cell_type": "code",
   "execution_count": null,
   "metadata": {},
   "outputs": [],
   "source": [
    "#Eliminamos la lista de 'por que es conocido' y lo transformamos a strings. Recordad que la lista limpieza\n",
    "#es la transformacion del paso anterior.\n",
    "for indice,actriz in enumerate(lista_limpieza): \n",
    "    for elemento in actriz:\n",
    "        if type(elemento)==list:\n",
    "            elemento_limpio= \", \".join(elemento)\n",
    "            lista_limpieza[indice][3] = elemento_limpio\n",
    "            print(elemento_limpio)"
   ]
  },
  {
   "cell_type": "code",
   "execution_count": null,
   "metadata": {},
   "outputs": [],
   "source": [
    "#Convertimos nuevamente la lista de listas en lista de tuplas\n",
    "lista_limpieza_tupla = [tuple(x) for x in lista_limpieza]"
   ]
  },
  {
   "cell_type": "code",
   "execution_count": null,
   "metadata": {},
   "outputs": [],
   "source": [
    "#Este resultado es el que guardamos en csv para la base de datos\n",
    "lista_limpieza_tupla"
   ]
  },
  {
   "cell_type": "code",
   "execution_count": null,
   "metadata": {},
   "outputs": [],
   "source": [
    "df_caracterisiticas=pd.DataFrame(lista_limpieza_tupla)"
   ]
  },
  {
   "cell_type": "code",
   "execution_count": null,
   "metadata": {},
   "outputs": [],
   "source": [
    "df_caracterisiticas.to_csv(\"caracteristicas_actores.csv\")"
   ]
  }
 ],
 "metadata": {
  "kernelspec": {
   "display_name": "promof",
   "language": "python",
   "name": "python3"
  },
  "language_info": {
   "codemirror_mode": {
    "name": "ipython",
    "version": 3
   },
   "file_extension": ".py",
   "mimetype": "text/x-python",
   "name": "python",
   "nbconvert_exporter": "python",
   "pygments_lexer": "ipython3",
   "version": "3.10.7"
  }
 },
 "nbformat": 4,
 "nbformat_minor": 2
}
