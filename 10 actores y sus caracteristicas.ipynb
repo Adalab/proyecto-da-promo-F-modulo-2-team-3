{
 "cells": [
  {
   "cell_type": "code",
   "execution_count": 1,
   "metadata": {},
   "outputs": [],
   "source": [
    "import requests\n",
    "import pandas as pd\n",
    "\n",
    "# Importar librerías para web scraping y manipulación de datos\n",
    "# -----------------------------------------------------------------------\n",
    "from bs4 import BeautifulSoup\n",
    "import requests\n",
    "\n",
    "\n",
    "from tqdm import tqdm\n",
    "\n",
    "# Importar librerías para automatización de navegadores web con Selenium\n",
    "# -----------------------------------------------------------------------\n",
    "from selenium import webdriver  # Selenium es una herramienta para automatizar la interacción con navegadores web.\n",
    "from webdriver_manager.chrome import ChromeDriverManager  # ChromeDriverManager gestiona la instalación del controlador de Chrome.\n",
    "from selenium.webdriver.common.keys import Keys  # Keys es útil para simular eventos de teclado en Selenium.\n",
    "\n",
    "# Importar librerías para pausar la ejecución\n",
    "# -----------------------------------------------------------------------\n",
    "from time import sleep  # Sleep se utiliza para pausar la ejecución del programa por un número de segundos."
   ]
  },
  {
   "cell_type": "code",
   "execution_count": 2,
   "metadata": {},
   "outputs": [],
   "source": [
    "import re"
   ]
  },
  {
   "cell_type": "code",
   "execution_count": 3,
   "metadata": {},
   "outputs": [],
   "source": [
    "lista_prueba = [('tt0099044',   'Another 48 Hrs.',   'Walter Hill',   'John Fasano Roger Spottiswoode Jeb Stuart', '1h 35min',   '5.9',   'Jack Cates vuelve a contar con la ayuda del exconvicto Reggie Hammond, esta vez para acabar con El Témpano, un despiadado capo de la droga que opera en la zona de la bahía de San Francisco.'),  ('tt0097259',   'Easy Kill',   'Josh Spencer',   'Greg Latter',   '1h 29min',   '3.8',   'A bar owner/ex cop winds up in a scheme involving drug smuggling, murder, and seduction.'),  ('tt0099240',   'Janggunui adeul',   'Im Kwon-taek',   'Song-yu Hong Sam-yuk Yoon',   '1h 48min',   '6.4',   \"The first chapter of the the General's Son trilogy follows Kim Du-Han's childhood, from the loss of his mother at age 8, to his rise as a gang leader who protects local vendors from expanding Yakuza forces in Japanese occupied Korea.\", 'tt0405889',\n",
    "  'Duelo de rufianes',   'No especificado',   'No especificado',  '1h 30min', 'No se facilita puntuación', 'No se facilita argumento')]\n"
   ]
  },
  {
   "cell_type": "code",
   "execution_count": null,
   "metadata": {},
   "outputs": [],
   "source": []
  },
  {
   "cell_type": "markdown",
   "metadata": {},
   "source": [
    "# Actores por peli"
   ]
  },
  {
   "cell_type": "code",
   "execution_count": 4,
   "metadata": {},
   "outputs": [
    {
     "name": "stderr",
     "output_type": "stream",
     "text": [
      "100%|██████████| 3/3 [00:25<00:00,  8.63s/it]\n"
     ]
    }
   ],
   "source": [
    "driver = webdriver.Chrome()\n",
    "\n",
    "driver.maximize_window()\n",
    "\n",
    "driver.get(\"https://www.imdb.com/\")\n",
    "\n",
    "lista_tupla_actores = []\n",
    "sleep(3)\n",
    "for tupla in tqdm(lista_prueba):\n",
    "    \n",
    "    driver.find_element(\"css selector\", \"#suggestion-search\").send_keys(tupla[0], Keys.ENTER)\n",
    "    sleep(3)\n",
    "    \n",
    "    lista_actores = []\n",
    "    for i in range(1, 11):\n",
    "        try:\n",
    "            lista_actores.append(driver.find_element(\"css selector\", f\"#__next > main > div > section.ipc-page-background.ipc-page-background--base.sc-304f99f6-0.fSJiHR > div > section > div > div.sc-9178d6fe-1.fqVKQb.ipc-page-grid__item.ipc-page-grid__item--span-2 > section.ipc-page-section.ipc-page-section--base.sc-bfec09a1-0.jgUBLM.title-cast.title-cast--movie.celwidget > div.ipc-shoveler.ipc-shoveler--base.ipc-shoveler--page0.title-cast__grid > div.ipc-sub-grid.ipc-sub-grid--page-span-2.ipc-sub-grid--wraps-at-above-l.ipc-shoveler__grid > div:nth-child({i}) > div.sc-bfec09a1-7.gWwKlt > a\").text)\n",
    "           \n",
    "        except:            \n",
    "            break\n",
    "    lista_actores.append(tupla[1])\n",
    "    lista_tupla_actores.append(tuple(lista_actores))\n",
    "\n",
    "    driver.back()\n",
    "\n",
    "driver.close()   \n"
   ]
  },
  {
   "cell_type": "code",
   "execution_count": null,
   "metadata": {},
   "outputs": [],
   "source": [
    "#__next > main > div > section.ipc-page-background.ipc-page-background--base.sc-304f99f6-0.fSJiHR > div > section > div > div.sc-9178d6fe-1.fqVKQb.ipc-page-grid__item.ipc-page-grid__item--span-2 > section.ipc-page-section.ipc-page-section--base.sc-bfec09a1-0.jgUBLM.title-cast.title-cast--movie.celwidget > div.ipc-shoveler.ipc-shoveler--base.ipc-shoveler--page0.title-cast__grid > div.ipc-sub-grid.ipc-sub-grid--page-span-2.ipc-sub-grid--wraps-at-above-l.ipc-shoveler__grid > div:nth-child(1) > div.sc-bfec09a1-7.gWwKlt > a\n",
    "#__next > main > div > section.ipc-page-background.ipc-page-background--base.sc-304f99f6-0.fSJiHR > div > section > div > div.sc-9178d6fe-1.fqVKQb.ipc-page-grid__item.ipc-page-grid__item--span-2 > section.ipc-page-section.ipc-page-section--base.sc-bfec09a1-0.jgUBLM.title-cast.title-cast--movie.celwidget > div.ipc-shoveler.ipc-shoveler--base.ipc-shoveler--page0.title-cast__grid > div.ipc-sub-grid.ipc-sub-grid--page-span-2.ipc-sub-grid--wraps-at-above-l.ipc-shoveler__grid > div:nth-child(2) > div.sc-bfec09a1-7.gWwKlt > a"
   ]
  },
  {
   "cell_type": "code",
   "execution_count": 5,
   "metadata": {},
   "outputs": [
    {
     "data": {
      "text/plain": [
       "[('Eddie Murphy',\n",
       "  'Nick Nolte',\n",
       "  'Brion James',\n",
       "  'Kevin Tighe',\n",
       "  \"Ed O'Ross\",\n",
       "  'David Anthony Marshall',\n",
       "  'Andrew Divoff',\n",
       "  'Bernie Casey',\n",
       "  'Brent Jennings',\n",
       "  'Ted Markland',\n",
       "  'Another 48 Hrs.'),\n",
       " ('Frank Stallone',\n",
       "  'Jane Badler',\n",
       "  'Cameron Mitchell',\n",
       "  'Shayne Leith',\n",
       "  'Elliot Frantz',\n",
       "  'Deon Stewardson',\n",
       "  'Rick Skidmore',\n",
       "  'J. Everett Leck',\n",
       "  'Mark Lancaster',\n",
       "  'Hal Orlandini',\n",
       "  'Easy Kill'),\n",
       " ('Sang-min Park',\n",
       "  'Hyeon-jun Shin',\n",
       "  'Il-jae Lee',\n",
       "  'Bang Eun-hee',\n",
       "  'Hyeong-il Kim',\n",
       "  'Doo-hong Jung',\n",
       "  'Hwang Jung-min',\n",
       "  'Gyeong-ho Kim',\n",
       "  'Hae-gon Kim',\n",
       "  'Seung-woo Kim',\n",
       "  'Janggunui adeul')]"
      ]
     },
     "execution_count": 5,
     "metadata": {},
     "output_type": "execute_result"
    }
   ],
   "source": [
    "lista_tupla_actores"
   ]
  },
  {
   "cell_type": "markdown",
   "metadata": {},
   "source": [
    "# Caracteristicas de los actores"
   ]
  },
  {
   "cell_type": "code",
   "execution_count": null,
   "metadata": {},
   "outputs": [],
   "source": [
    "#EL PROBLEMA ES EL AÑO DE NACIMIENTO"
   ]
  },
  {
   "cell_type": "code",
   "execution_count": null,
   "metadata": {},
   "outputs": [],
   "source": [
    "# no borrar celda siguiente es el ejemplo de aana"
   ]
  },
  {
   "cell_type": "code",
   "execution_count": null,
   "metadata": {},
   "outputs": [
    {
     "data": {
      "text/plain": [
       "[(' 1941',\n",
       "  \"Born in '45\\n6.4\\nLisa, genannt Li\\n1990\\nDie Glatzkopfbande\\n5.5\\nWaltraud\\n1963\\nJetzt und in der Stunde meines Todes\\n7.4\\nAngelika Hecht\\n1963\\nDas verhexte Fischerdorf\\n5.1\\nEvelyn\\n1962\",\n",
       "  'Actress',\n",
       "  'Monika Hildebrand'),\n",
       " (' 1935',\n",
       "  'He Du!\\n6.9\\nMaxe Krahl(as Rolf Specht)\\n1970\\nTecumseh\\n5.6\\nSimon McKew\\n1972\\nChingachgook, die grosse Schlange\\n6.0\\nWildtöterDeerslayer\\n1967\\nDer Mord, der nie verjährt\\nLiepmann\\n1968',\n",
       "  'Actor',\n",
       "  'Rolf Römer'),\n",
       " ('desconocido', \"Born in '45\\n6.4\\nMogul\\n1990\", 'Actor', 'Paul Eichbaum')]"
      ]
     },
     "execution_count": 18,
     "metadata": {},
     "output_type": "execute_result"
    }
   ],
   "source": [
    "lista_detalles_actores"
   ]
  },
  {
   "cell_type": "code",
   "execution_count": 17,
   "metadata": {},
   "outputs": [
    {
     "name": "stderr",
     "output_type": "stream",
     "text": [
      "  0%|          | 0/10 [00:00<?, ?it/s]"
     ]
    },
    {
     "name": "stdout",
     "output_type": "stream",
     "text": [
      "Eddie Murphy\n"
     ]
    },
    {
     "name": "stderr",
     "output_type": "stream",
     "text": [
      " 10%|█         | 1/10 [00:18<02:46, 18.55s/it]"
     ]
    },
    {
     "name": "stdout",
     "output_type": "stream",
     "text": [
      "Nick Nolte\n"
     ]
    },
    {
     "name": "stderr",
     "output_type": "stream",
     "text": [
      " 20%|██        | 2/10 [00:32<02:08, 16.02s/it]"
     ]
    },
    {
     "name": "stdout",
     "output_type": "stream",
     "text": [
      "Brion James\n"
     ]
    },
    {
     "name": "stderr",
     "output_type": "stream",
     "text": [
      " 30%|███       | 3/10 [00:47<01:47, 15.37s/it]"
     ]
    },
    {
     "name": "stdout",
     "output_type": "stream",
     "text": [
      "Kevin Tighe\n"
     ]
    },
    {
     "name": "stderr",
     "output_type": "stream",
     "text": [
      " 40%|████      | 4/10 [01:02<01:31, 15.32s/it]"
     ]
    },
    {
     "name": "stdout",
     "output_type": "stream",
     "text": [
      "Ed O'Ross\n"
     ]
    },
    {
     "name": "stderr",
     "output_type": "stream",
     "text": [
      " 40%|████      | 4/10 [01:09<01:44, 17.42s/it]\n"
     ]
    },
    {
     "ename": "KeyboardInterrupt",
     "evalue": "",
     "output_type": "error",
     "traceback": [
      "\u001b[1;31m---------------------------------------------------------------------------\u001b[0m",
      "\u001b[1;31mKeyboardInterrupt\u001b[0m                         Traceback (most recent call last)",
      "\u001b[1;32mc:\\Users\\nalon\\Desktop\\Adalab\\Modulo 2\\Proyecto\\proyecto-da-promo-F-modulo-2-team-3\\sacar_actores_grupo3pruebasdia10.ipynb Cell 13\u001b[0m line \u001b[0;36m1\n\u001b[0;32m      <a href='vscode-notebook-cell:/c%3A/Users/nalon/Desktop/Adalab/Modulo%202/Proyecto/proyecto-da-promo-F-modulo-2-team-3/sacar_actores_grupo3pruebasdia10.ipynb#X14sZmlsZQ%3D%3D?line=8'>9</a>\u001b[0m lista_actores \u001b[39m=\u001b[39m []\n\u001b[0;32m     <a href='vscode-notebook-cell:/c%3A/Users/nalon/Desktop/Adalab/Modulo%202/Proyecto/proyecto-da-promo-F-modulo-2-team-3/sacar_actores_grupo3pruebasdia10.ipynb#X14sZmlsZQ%3D%3D?line=9'>10</a>\u001b[0m \u001b[39mprint\u001b[39m(actor)\n\u001b[1;32m---> <a href='vscode-notebook-cell:/c%3A/Users/nalon/Desktop/Adalab/Modulo%202/Proyecto/proyecto-da-promo-F-modulo-2-team-3/sacar_actores_grupo3pruebasdia10.ipynb#X14sZmlsZQ%3D%3D?line=10'>11</a>\u001b[0m sleep(\u001b[39m7\u001b[39m)\n\u001b[0;32m     <a href='vscode-notebook-cell:/c%3A/Users/nalon/Desktop/Adalab/Modulo%202/Proyecto/proyecto-da-promo-F-modulo-2-team-3/sacar_actores_grupo3pruebasdia10.ipynb#X14sZmlsZQ%3D%3D?line=11'>12</a>\u001b[0m driver\u001b[39m.\u001b[39mfind_element(\u001b[39m\"\u001b[39m\u001b[39mcss selector\u001b[39m\u001b[39m\"\u001b[39m, \u001b[39m\"\u001b[39m\u001b[39m#suggestion-search\u001b[39m\u001b[39m\"\u001b[39m)\u001b[39m.\u001b[39msend_keys(actor, Keys\u001b[39m.\u001b[39mENTER)\n\u001b[0;32m     <a href='vscode-notebook-cell:/c%3A/Users/nalon/Desktop/Adalab/Modulo%202/Proyecto/proyecto-da-promo-F-modulo-2-team-3/sacar_actores_grupo3pruebasdia10.ipynb#X14sZmlsZQ%3D%3D?line=13'>14</a>\u001b[0m sleep(\u001b[39m3\u001b[39m)\n",
      "\u001b[1;31mKeyboardInterrupt\u001b[0m: "
     ]
    }
   ],
   "source": [
    "driver = webdriver.Chrome()\n",
    "driver.maximize_window()\n",
    "\n",
    "driver.get(\"https://www.imdb.com/\")\n",
    "lista_detalles_actores = []\n",
    "\n",
    "for tupla in lista_tupla_actores[:3]:\n",
    "    for actor in tqdm(tupla[:-1]):\n",
    "        lista_actores = []\n",
    "        print(actor)\n",
    "        sleep(7)\n",
    "        driver.find_element(\"css selector\", \"#suggestion-search\").send_keys(actor, Keys.ENTER)\n",
    "            \n",
    "        sleep(3)\n",
    "        \n",
    "        driver.find_element(\"css selector\", \"#__next > main > div.ipc-page-content-container.ipc-page-content-container--full.sc-872d7ac7-0.fqEQWL > div.ipc-page-content-container.ipc-page-content-container--center > section > div > div.ipc-page-grid__item.ipc-page-grid__item--span-2 > section:nth-child(3) > div.sc-17bafbdb-2.iUyFfD > ul > li:nth-child(1)\").click()\n",
    "        \n",
    "        lista_caracteristicas = []\n",
    "        #Sacamos año de nacimiento\n",
    "        try:\n",
    "            año = driver.find_element(\"xpath\", '//*[@id=\"__next\"]/main/div/section[1]/section/div[3]/section/section/div[3]/div[2]/div[2]/section/aside/div/span[2]').text.split(\" \")[-1]\n",
    "                  \n",
    "            lista_caracteristicas.append(año)                  \n",
    "            \n",
    "        except:            \n",
    "            lista_caracteristicas.append(\"Desconocido\")\n",
    "        \n",
    "        #Sacamos el top de las peliculas por las que es conocido/a    \n",
    "\n",
    "        try: \n",
    "            conocido = driver.find_element(\"xpath\",'//*[@id=\"__next\"]/main/div/section[1]/div/section/div/div[1]/div[3]/section[1]/div[2]').text\n",
    "        except: \n",
    "            conocido=\"Sin datos\"\n",
    "        \n",
    "        #Sacamos las profesiones     \n",
    "        try:   \n",
    "            que_hace = driver.find_element(\"xpath\", '//*[@id=\"__next\"]/main/div/section[1]/section/div[3]/section/section/div[2]/div/ul').text.replace(\"\\n\", ', ')\n",
    "        \n",
    "        except:\n",
    "            que_hace=\"Sin datos\"\n",
    "\n",
    "\n",
    "        lista_caracteristicas.append(actor)  \n",
    "        lista_caracteristicas.append(conocido.split(\"\\n\")[::4])\n",
    "        lista_caracteristicas.append(que_hace)\n",
    "        lista_detalles_actores.append(tuple(lista_caracteristicas))\n",
    "        driver.back()\n",
    "            \n",
    "\n",
    "    #driver.close()"
   ]
  },
  {
   "cell_type": "code",
   "execution_count": 18,
   "metadata": {},
   "outputs": [
    {
     "data": {
      "text/plain": [
       "[('1961',\n",
       "  'Eddie Murphy',\n",
       "  ['The Nutty Professor (El profesor chiflado)',\n",
       "   'Dreamgirls',\n",
       "   'El príncipe de Zamunda',\n",
       "   'Noches de Harlem'],\n",
       "  'Reparto, Guion, Producción'),\n",
       " ('1941',\n",
       "  'Nick Nolte',\n",
       "  ['Warrior',\n",
       "   'Aflicción',\n",
       "   'El príncipe de las mareas',\n",
       "   'La delgada línea roja'],\n",
       "  'Reparto, Producción, Banda sonora'),\n",
       " ('1945',\n",
       "  'Brion James',\n",
       "  ['Blade Runner', 'El quinto elemento', 'Persecución mortal', '48 horas más'],\n",
       "  'Reparto, Producción'),\n",
       " ('1944',\n",
       "  'Kevin Tighe',\n",
       "  ['48 horas más', 'Emergencia', '1972–1979 • 130 episodios', '1989', '1989'],\n",
       "  'Reparto, Dirección, Especialistas')]"
      ]
     },
     "execution_count": 18,
     "metadata": {},
     "output_type": "execute_result"
    }
   ],
   "source": [
    "lista_detalles_actores"
   ]
  },
  {
   "cell_type": "code",
   "execution_count": null,
   "metadata": {},
   "outputs": [],
   "source": [
    "#__next > main > div > section.ipc-page-background.ipc-page-background--base.sc-304f99f6-0.eaRXHu > section > div:nth-child(4) > section > section > div.sc-e226b0e3-3.jJsEuz > div > ul > li:nth-child(1)"
   ]
  },
  {
   "cell_type": "code",
   "execution_count": null,
   "metadata": {},
   "outputs": [],
   "source": [
    "#__next > main > div > section.ipc-page-background.ipc-page-background--base.sc-304f99f6-0.eaRXHu > section > div:nth-child(4) > section > section > div.sc-e226b0e3-3.jJsEuz > div > ul > li"
   ]
  },
  {
   "cell_type": "code",
   "execution_count": 33,
   "metadata": {},
   "outputs": [
    {
     "data": {
      "text/plain": [
       "[('1961',\n",
       "  'Eddie Murphy',\n",
       "  \"The Nutty Professor (El profesor chiflado)  Sherman KlumpBuddy LoveLance Perkins 1996 Dreamgirls  James 'Thunder' Early 2006 El príncipe de Zamunda  Prince AkeemClarenceSaul 1988 Noches de Harlem  Quick 1989\",\n",
       "  'Reparto, Guion, Producción')]"
      ]
     },
     "execution_count": 33,
     "metadata": {},
     "output_type": "execute_result"
    }
   ],
   "source": [
    "lista_detalles_actores"
   ]
  }
 ],
 "metadata": {
  "kernelspec": {
   "display_name": "promof",
   "language": "python",
   "name": "python3"
  },
  "language_info": {
   "codemirror_mode": {
    "name": "ipython",
    "version": 3
   },
   "file_extension": ".py",
   "mimetype": "text/x-python",
   "name": "python",
   "nbconvert_exporter": "python",
   "pygments_lexer": "ipython3",
   "version": "3.10.7"
  }
 },
 "nbformat": 4,
 "nbformat_minor": 2
}
