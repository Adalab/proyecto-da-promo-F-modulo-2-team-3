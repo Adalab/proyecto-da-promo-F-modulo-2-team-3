{
 "cells": [
  {
   "cell_type": "code",
   "execution_count": null,
   "metadata": {},
   "outputs": [],
   "source": [
    "driver=webdriver.Chrome()\n",
    "driver.get(\"https://www.google.com\")\n",
    "driver.maximize_window()\n",
    "sleep(1)\n",
    "#rechazar las cookies de google\n",
    "driver.find_element(\"css selector\", \"#L2AGLb\").click()\n",
    "lista_tuplas_tomate=[]\n",
    "for pelicula in tqdm(lista_zip_combinada[:10]):\n",
    "    sleep(2)\n",
    "    #Buscar en google nuestra pelicula\n",
    "    driver.find_element(\"css selector\", \"#APjFqb\").send_keys(f\"{pelicula[0], pelicula[1]}, rotten tomatoes\", Keys.ENTER)\n",
    "    sleep(2)\n",
    "    lista_pelicula_tomate=[]\n",
    "    #Guardamos en una variable el primer resultado que nos devuelve google para pdoer compararlo con nuestro título\n",
    "    peli=driver.find_element(\"css selector\", 'h3').text\n",
    "    print(peli,\"---\",pelicula[0])\n",
    "    sleep(2)\n",
    "    #Añadimos a nuestra tupla el valor de nuestro csv\n",
    "    #lista_pelicula_tomate.append(pelicula[0])\n",
    "    #En algunos casos las peliculas pueden tener un \"alias\", para segurarnos de que capturan todas las peliculas posibles y no perdemos alguna por el camino, usamos el in en vez del ==\n",
    "    similitud = fuzz.ratio(pelicula[0], peli)\n",
    "    #print(similitud)\n",
    "    try:\n",
    "        lista_pelicula_tomate.append(pelicula[0])\n",
    "        if pelicula[0] == peli or similitud >= 50:\n",
    "            #print(\"estamos en el primer if\")\n",
    "            \n",
    "            #Sacamos el texto de la puntuación\n",
    "            puntuacion_tomate=driver.find_element('css selector', '#rso > div:nth-child(1) > div > div > div:nth-child(3) > div > span:nth-child(2)').text\n",
    "            if '%' in puntuacion_tomate:\n",
    "                #print(\"la peli esta, hay tomate\")\n",
    "                lista_pelicula_tomate.append(puntuacion_tomate.replace(\"Valoración: \", \"\"))\n",
    "            else:\n",
    "                lista_pelicula_tomate.append(\"No aparece puntuación\")\n",
    "                #print(\"la peli esta, no hay tomate\")\n",
    "        else:\n",
    "            lista_pelicula_tomate.append(\"La pelicula no está en la página Rotten Tomatoes\")\n",
    "    except:\n",
    "         pass\n",
    "    lista_tuplas_tomate.append(tuple(lista_pelicula_tomate))\n",
    "    driver.back()\n",
    "driver.quit()"
   ]
  }
 ],
 "metadata": {
  "language_info": {
   "name": "python"
  },
  "orig_nbformat": 4
 },
 "nbformat": 4,
 "nbformat_minor": 2
}
