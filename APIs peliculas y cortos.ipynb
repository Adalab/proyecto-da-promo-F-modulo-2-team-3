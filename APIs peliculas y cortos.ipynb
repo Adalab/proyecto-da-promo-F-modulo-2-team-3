{
 "cells": [
  {
   "cell_type": "markdown",
   "metadata": {},
   "source": [
    "*FASE 1: EXTRACCIÓN DE API*\n",
    "\n",
    "Hacer solicitudes a esta API y extraer información relevante sobre las películas. En concreto tendreis que sacar la siguiente información:\n",
    "\n",
    "- Películas desde el 1990 hasta la actualidad.\n",
    "- Películas que pertenezcan a los siguientes géneros: Drama, Comedy, Action, Fantasy, Horror, Mystery, Romance, Thriller.\n",
    "- De cada una de las películas tendreis que sacar la siguiente información:\n",
    "- Tipo (si es corto o película).\n",
    "- Nombre de la película o el corto.\n",
    "- Año de estreno de la película o corto.\n",
    "- Mes de estreno de la película o corto.\n",
    "- Id de la película.\n",
    "\n",
    "NOTA: La información de la API deberá ser almacenada en una lista de tuplas. Cada tupla corresponderá a una película. Siguiendo el siguiente ejemplo:\n",
    "[(\"Pelicula\", \"Titanic\", 1997, 12, \"abc123\"), (\"Pelicula\", \"Los Gonnies\", 1985, 6, \"abc456\"), ...] ---> LISTA DE TUPLAS"
   ]
  },
  {
   "cell_type": "code",
   "execution_count": 10,
   "metadata": {},
   "outputs": [
    {
     "name": "stdout",
     "output_type": "stream",
     "text": [
      "{'page': 1, 'next': '/titles?year=2022&page=2', 'entries': 10, 'results': [{'_id': '61e584ead735dff3f9422c4b', 'id': 'tt0429087', 'primaryImage': {'id': 'rm3004956673', 'width': 675, 'height': 1000, 'url': 'https://m.media-amazon.com/images/M/MV5BMjU0ZmU1NTItNmRjNS00MjRkLWE0MDctYWMyNDY0YTA3ZDc4XkEyXkFqcGdeQXVyMDM2NDM2MQ@@._V1_.jpg', 'caption': {'plainText': 'Charlie Hunnam in Shantaram (2022)', '__typename': 'Markdown'}, '__typename': 'Image'}, 'titleType': {'text': 'TV Series', 'id': 'tvSeries', 'isSeries': True, 'isEpisode': False, 'categories': [{'value': 'tv', '__typename': 'TitleTypeCategory'}], 'canHaveEpisodes': True, '__typename': 'TitleType'}, 'titleText': {'text': 'Shantaram', '__typename': 'TitleText'}, 'originalTitleText': {'text': 'Shantaram', '__typename': 'TitleText'}, 'releaseYear': {'year': 2022, 'endYear': 2022, '__typename': 'YearRange'}, 'releaseDate': {'day': 14, 'month': 10, 'year': 2022, '__typename': 'ReleaseDate'}}, {'_id': '61e58526b597b91eb9423a1f', 'id': 'tt0451272', 'primaryImage': {'id': 'rm3652042241', 'width': 2525, 'height': 3240, 'url': 'https://m.media-amazon.com/images/M/MV5BNzVkYWQ1ZGQtNmEyZC00N2VjLTgxNzQtNDI2MDBmZDlhZGRlXkEyXkFqcGdeQXVyNTg0MzE1MjQ@._V1_.jpg', 'caption': {'plainText': 'Kim Bodnia in Nefarious (2022)', '__typename': 'Markdown'}, '__typename': 'Image'}, 'titleType': {'text': 'Movie', 'id': 'movie', 'isSeries': False, 'isEpisode': False, 'categories': [{'value': 'movie', '__typename': 'TitleTypeCategory'}], 'canHaveEpisodes': False, '__typename': 'TitleType'}, 'titleText': {'text': 'Nefarious', '__typename': 'TitleText'}, 'originalTitleText': {'text': 'Nefarious', '__typename': 'TitleText'}, 'releaseYear': {'year': 2022, 'endYear': None, '__typename': 'YearRange'}, 'releaseDate': {'day': None, 'month': None, 'year': 2022, '__typename': 'ReleaseDate'}}, {'_id': '61e58920d8f3c0931e431dcf', 'id': 'tt0808491', 'primaryImage': {'id': 'rm1496121601', 'width': 1500, 'height': 2125, 'url': 'https://m.media-amazon.com/images/M/MV5BYzYzN2MzNjgtOTFlMC00MzIzLWI0YjgtZGJiNzg5MzVkYjgwXkEyXkFqcGdeQXVyOTEwNTkyNjE@._V1_.jpg', 'caption': {'plainText': 'The Swarm (2022)', '__typename': 'Markdown'}, '__typename': 'Image'}, 'titleType': {'text': 'TV Series', 'id': 'tvSeries', 'isSeries': True, 'isEpisode': False, 'categories': [{'value': 'tv', '__typename': 'TitleTypeCategory'}], 'canHaveEpisodes': True, '__typename': 'TitleType'}, 'titleText': {'text': 'The Swarm', '__typename': 'TitleText'}, 'originalTitleText': {'text': 'The Swarm', '__typename': 'TitleText'}, 'releaseYear': {'year': 2022, 'endYear': None, '__typename': 'YearRange'}, 'releaseDate': {'day': None, 'month': None, 'year': 2022, '__typename': 'ReleaseDate'}}, {'_id': '61e589a8e1a8ddbd96433b79', 'id': 'tt0857466', 'primaryImage': {'id': 'rm3475839489', 'width': 1139, 'height': 775, 'url': 'https://m.media-amazon.com/images/M/MV5BODQzY2MzNWYtOTcwYi00OTZjLTk5NzgtMGJlYWU5N2YzYWIwXkEyXkFqcGdeQXVyMjQ5NzQ4NjM@._V1_.jpg', 'caption': {'plainText': 'American Experience (1987)', '__typename': 'Markdown'}, '__typename': 'Image'}, 'titleType': {'text': 'TV Episode', 'id': 'tvEpisode', 'isSeries': False, 'isEpisode': True, 'categories': [{'value': 'tv', '__typename': 'TitleTypeCategory'}], 'canHaveEpisodes': False, '__typename': 'TitleType'}, 'titleText': {'text': 'Riveted: The History of Jeans', '__typename': 'TitleText'}, 'originalTitleText': {'text': 'Riveted: The History of Jeans', '__typename': 'TitleText'}, 'releaseYear': {'year': 2022, 'endYear': None, '__typename': 'YearRange'}, 'releaseDate': {'day': 7, 'month': 2, 'year': 2022, '__typename': 'ReleaseDate'}}, {'_id': '61e589ff8a5a6a599f435125', 'id': 'tt0887261', 'primaryImage': {'id': 'rm3621847809', 'width': 2025, 'height': 3000, 'url': 'https://m.media-amazon.com/images/M/MV5BYWM1YTgxNjMtNzY2NC00YjVmLWE1ODUtNTdiYTI4YjZhODMwXkEyXkFqcGdeQXVyMTUzMTg2ODkz._V1_.jpg', 'caption': {'plainText': 'Jamie Clayton in Hellraiser (2022)', '__typename': 'Markdown'}, '__typename': 'Image'}, 'titleType': {'text': 'Movie', 'id': 'movie', 'isSeries': False, 'isEpisode': False, 'categories': [{'value': 'movie', '__typename': 'TitleTypeCategory'}], 'canHaveEpisodes': False, '__typename': 'TitleType'}, 'titleText': {'text': 'Hellraiser', '__typename': 'TitleText'}, 'originalTitleText': {'text': 'Hellraiser', '__typename': 'TitleText'}, 'releaseYear': {'year': 2022, 'endYear': None, '__typename': 'YearRange'}, 'releaseDate': {'day': 7, 'month': 10, 'year': 2022, '__typename': 'ReleaseDate'}}, {'_id': '61e58ad2ef99b1c5434380e1', 'id': 'tt0965381', 'primaryImage': {'id': 'rm3017329409', 'width': 3508, 'height': 4961, 'url': 'https://m.media-amazon.com/images/M/MV5BODgzZDk1NzEtODhkYi00NTJhLWJjYTUtNTMxY2I3MDg3ZmE0XkEyXkFqcGdeQXVyNDI3OTE4ODE@._V1_.jpg', 'caption': {'plainText': 'Milli Vanilli (2022)', '__typename': 'Markdown'}, '__typename': 'Image'}, 'titleType': {'text': 'Movie', 'id': 'movie', 'isSeries': False, 'isEpisode': False, 'categories': [{'value': 'movie', '__typename': 'TitleTypeCategory'}], 'canHaveEpisodes': False, '__typename': 'TitleType'}, 'titleText': {'text': 'Milli Vanilli', '__typename': 'TitleText'}, 'originalTitleText': {'text': 'Milli Vanilli', '__typename': 'TitleText'}, 'releaseYear': {'year': 2022, 'endYear': None, '__typename': 'YearRange'}, 'releaseDate': {'day': None, 'month': None, 'year': 2022, '__typename': 'ReleaseDate'}}, {'_id': '61e58b2ea66e5964234395bd', 'id': 'tt10001728', 'primaryImage': {'id': 'rm3808227585', 'width': 1200, 'height': 1584, 'url': 'https://m.media-amazon.com/images/M/MV5BNDFmZDljNWYtMWY4Zi00YWI3LWFjOTgtOWFhYTBmN2EzZWIwXkEyXkFqcGdeQXVyNDE4NTE4MQ@@._V1_.jpg', 'caption': {'plainText': 'Kill Switch (2022)', '__typename': 'Markdown'}, '__typename': 'Image'}, 'titleType': {'text': 'Short', 'id': 'short', 'isSeries': False, 'isEpisode': False, '__typename': 'TitleType'}, 'titleText': {'text': 'Kill Switch', '__typename': 'TitleText'}, 'originalTitleText': {'text': 'Kill Switch', '__typename': 'TitleText'}, 'releaseYear': {'year': 2022, 'endYear': None, '__typename': 'YearRange'}, 'releaseDate': {'day': None, 'month': 10, 'year': 2022, '__typename': 'ReleaseDate'}}, {'_id': '61e58b3378c012aa34439601', 'id': 'tt10003926', 'primaryImage': {'id': 'rm2662392577', 'width': 1200, 'height': 1822, 'url': 'https://m.media-amazon.com/images/M/MV5BZjMzMWFlMzQtN2Y1NC00YWNjLWE4ZTctM2U5M2Q3OTM0ZThkXkEyXkFqcGdeQXVyMjIwMTAzNzU@._V1_.jpg', 'caption': {'plainText': 'Fermí Reixach in Siempre Yo (2022)', '__typename': 'Markdown'}, '__typename': 'Image'}, 'titleType': {'text': 'Short', 'id': 'short', 'isSeries': False, 'isEpisode': False, 'categories': [{'value': 'movie', '__typename': 'TitleTypeCategory'}], 'canHaveEpisodes': False, '__typename': 'TitleType'}, 'titleText': {'text': 'Siempre Yo', '__typename': 'TitleText'}, 'originalTitleText': {'text': 'Siempre Yo', '__typename': 'TitleText'}, 'releaseYear': {'year': 2022, 'endYear': None, '__typename': 'YearRange'}, 'releaseDate': {'day': 1, 'month': 3, 'year': 2022, '__typename': 'ReleaseDate'}}, {'_id': '61e58b3de1a8ddbd964399cb', 'id': 'tt10011306', 'primaryImage': {'id': 'rm1763446785', 'width': 1500, 'height': 2222, 'url': 'https://m.media-amazon.com/images/M/MV5BMmQ0OWQyZjUtMmM5ZS00NjAyLWE1YmEtZThjMTlkNjgzMWJkXkEyXkFqcGdeQXVyMTEzMTI1Mjk3._V1_.jpg', 'caption': {'plainText': 'Spriggan (2022)', '__typename': 'Markdown'}, '__typename': 'Image'}, 'titleType': {'text': 'TV Series', 'id': 'tvSeries', 'isSeries': True, 'isEpisode': False, 'categories': [{'value': 'tv', '__typename': 'TitleTypeCategory'}], 'canHaveEpisodes': True, '__typename': 'TitleType'}, 'titleText': {'text': 'Spriggan', '__typename': 'TitleText'}, 'originalTitleText': {'text': 'Spriggan', '__typename': 'TitleText'}, 'releaseYear': {'year': 2022, 'endYear': None, '__typename': 'YearRange'}, 'releaseDate': {'day': 18, 'month': 6, 'year': 2022, '__typename': 'ReleaseDate'}}, {'_id': '61e58b3f971a4a15d6439b17', 'id': 'tt10011314', 'primaryImage': {'id': 'rm2727614721', 'width': 1500, 'height': 2172, 'url': 'https://m.media-amazon.com/images/M/MV5BZWE5ODc4MzMtYWI2OC00M2M2LWI3MTctODFiZWRjMzJjYzIzXkEyXkFqcGdeQXVyMTEzMTI1Mjk3._V1_.jpg', 'caption': {'plainText': 'Vampire in the Garden (2022)', '__typename': 'Markdown'}, '__typename': 'Image'}, 'titleType': {'text': 'TV Series', 'id': 'tvSeries', 'isSeries': True, 'isEpisode': False, 'categories': [{'value': 'tv', '__typename': 'TitleTypeCategory'}], 'canHaveEpisodes': True, '__typename': 'TitleType'}, 'titleText': {'text': 'Vampire in the Garden', '__typename': 'TitleText'}, 'originalTitleText': {'text': 'Vampire in the Garden', '__typename': 'TitleText'}, 'releaseYear': {'year': 2022, 'endYear': 2022, '__typename': 'YearRange'}, 'releaseDate': {'day': 16, 'month': 5, 'year': 2022, '__typename': 'ReleaseDate'}}]}\n"
     ]
    },
    {
     "data": {
      "text/plain": [
       "dict_keys(['page', 'next', 'entries', 'results'])"
      ]
     },
     "execution_count": 10,
     "metadata": {},
     "output_type": "execute_result"
    }
   ],
   "source": [
    "import requests\n",
    "\n",
    "url = \"https://moviesdatabase.p.rapidapi.com/titles\"\n",
    "\n",
    "querystring = {\"year\":\"2022\"}\n",
    "\n",
    "headers = {\n",
    "\t\"X-RapidAPI-Key\": \"f6331b74eemshe555eab401ff0ccp18d045jsneaa4425720fb\",\n",
    "\t\"X-RapidAPI-Host\": \"moviesdatabase.p.rapidapi.com\"\n",
    "}\n",
    "\n",
    "response = requests.get(url, headers=headers, params=querystring)\n",
    "\n",
    "print(response.json())\n",
    "\n",
    "llamada=response.json()\n",
    "\n",
    "llamada.keys()\n",
    "\n"
   ]
  },
  {
   "cell_type": "code",
   "execution_count": 68,
   "metadata": {},
   "outputs": [
    {
     "name": "stdout",
     "output_type": "stream",
     "text": [
      "{'page': 1, 'next': '/titles?endYear=2022&startYear=1990&genre=Drama&page=2', 'entries': 10, 'results': [{'_id': '61e584ead735dff3f9422c4b', 'id': 'tt0429087', 'primaryImage': {'id': 'rm3004956673', 'width': 675, 'height': 1000, 'url': 'https://m.media-amazon.com/images/M/MV5BMjU0ZmU1NTItNmRjNS00MjRkLWE0MDctYWMyNDY0YTA3ZDc4XkEyXkFqcGdeQXVyMDM2NDM2MQ@@._V1_.jpg', 'caption': {'plainText': 'Charlie Hunnam in Shantaram (2022)', '__typename': 'Markdown'}, '__typename': 'Image'}, 'titleType': {'text': 'TV Series', 'id': 'tvSeries', 'isSeries': True, 'isEpisode': False, 'categories': [{'value': 'tv', '__typename': 'TitleTypeCategory'}], 'canHaveEpisodes': True, '__typename': 'TitleType'}, 'titleText': {'text': 'Shantaram', '__typename': 'TitleText'}, 'originalTitleText': {'text': 'Shantaram', '__typename': 'TitleText'}, 'releaseYear': {'year': 2022, 'endYear': 2022, '__typename': 'YearRange'}, 'releaseDate': {'day': 14, 'month': 10, 'year': 2022, '__typename': 'ReleaseDate'}}, {'_id': '61e58920d8f3c0931e431dcf', 'id': 'tt0808491', 'primaryImage': {'id': 'rm1496121601', 'width': 1500, 'height': 2125, 'url': 'https://m.media-amazon.com/images/M/MV5BYzYzN2MzNjgtOTFlMC00MzIzLWI0YjgtZGJiNzg5MzVkYjgwXkEyXkFqcGdeQXVyOTEwNTkyNjE@._V1_.jpg', 'caption': {'plainText': 'The Swarm (2022)', '__typename': 'Markdown'}, '__typename': 'Image'}, 'titleType': {'text': 'TV Series', 'id': 'tvSeries', 'isSeries': True, 'isEpisode': False, 'categories': [{'value': 'tv', '__typename': 'TitleTypeCategory'}], 'canHaveEpisodes': True, '__typename': 'TitleType'}, 'titleText': {'text': 'The Swarm', '__typename': 'TitleText'}, 'originalTitleText': {'text': 'The Swarm', '__typename': 'TitleText'}, 'releaseYear': {'year': 2022, 'endYear': None, '__typename': 'YearRange'}, 'releaseDate': {'day': None, 'month': None, 'year': 2022, '__typename': 'ReleaseDate'}}, {'_id': '61e58ad2ef99b1c5434380e1', 'id': 'tt0965381', 'primaryImage': {'id': 'rm3017329409', 'width': 3508, 'height': 4961, 'url': 'https://m.media-amazon.com/images/M/MV5BODgzZDk1NzEtODhkYi00NTJhLWJjYTUtNTMxY2I3MDg3ZmE0XkEyXkFqcGdeQXVyNDI3OTE4ODE@._V1_.jpg', 'caption': {'plainText': 'Milli Vanilli (2022)', '__typename': 'Markdown'}, '__typename': 'Image'}, 'titleType': {'text': 'Movie', 'id': 'movie', 'isSeries': False, 'isEpisode': False, 'categories': [{'value': 'movie', '__typename': 'TitleTypeCategory'}], 'canHaveEpisodes': False, '__typename': 'TitleType'}, 'titleText': {'text': 'Milli Vanilli', '__typename': 'TitleText'}, 'originalTitleText': {'text': 'Milli Vanilli', '__typename': 'TitleText'}, 'releaseYear': {'year': 2022, 'endYear': None, '__typename': 'YearRange'}, 'releaseDate': {'day': None, 'month': None, 'year': 2022, '__typename': 'ReleaseDate'}}, {'_id': '61e58b2ea66e5964234395bd', 'id': 'tt10001728', 'primaryImage': {'id': 'rm3808227585', 'width': 1200, 'height': 1584, 'url': 'https://m.media-amazon.com/images/M/MV5BNDFmZDljNWYtMWY4Zi00YWI3LWFjOTgtOWFhYTBmN2EzZWIwXkEyXkFqcGdeQXVyNDE4NTE4MQ@@._V1_.jpg', 'caption': {'plainText': 'Kill Switch (2022)', '__typename': 'Markdown'}, '__typename': 'Image'}, 'titleType': {'text': 'Short', 'id': 'short', 'isSeries': False, 'isEpisode': False, '__typename': 'TitleType'}, 'titleText': {'text': 'Kill Switch', '__typename': 'TitleText'}, 'originalTitleText': {'text': 'Kill Switch', '__typename': 'TitleText'}, 'releaseYear': {'year': 2022, 'endYear': None, '__typename': 'YearRange'}, 'releaseDate': {'day': None, 'month': 10, 'year': 2022, '__typename': 'ReleaseDate'}}, {'_id': '61e58b3378c012aa34439601', 'id': 'tt10003926', 'primaryImage': {'id': 'rm2662392577', 'width': 1200, 'height': 1822, 'url': 'https://m.media-amazon.com/images/M/MV5BZjMzMWFlMzQtN2Y1NC00YWNjLWE4ZTctM2U5M2Q3OTM0ZThkXkEyXkFqcGdeQXVyMjIwMTAzNzU@._V1_.jpg', 'caption': {'plainText': 'Fermí Reixach in Siempre Yo (2022)', '__typename': 'Markdown'}, '__typename': 'Image'}, 'titleType': {'text': 'Short', 'id': 'short', 'isSeries': False, 'isEpisode': False, 'categories': [{'value': 'movie', '__typename': 'TitleTypeCategory'}], 'canHaveEpisodes': False, '__typename': 'TitleType'}, 'titleText': {'text': 'Siempre Yo', '__typename': 'TitleText'}, 'originalTitleText': {'text': 'Siempre Yo', '__typename': 'TitleText'}, 'releaseYear': {'year': 2022, 'endYear': None, '__typename': 'YearRange'}, 'releaseDate': {'day': 1, 'month': 3, 'year': 2022, '__typename': 'ReleaseDate'}}, {'_id': '61e58b3f971a4a15d6439b17', 'id': 'tt10011314', 'primaryImage': {'id': 'rm2727614721', 'width': 1500, 'height': 2172, 'url': 'https://m.media-amazon.com/images/M/MV5BZWE5ODc4MzMtYWI2OC00M2M2LWI3MTctODFiZWRjMzJjYzIzXkEyXkFqcGdeQXVyMTEzMTI1Mjk3._V1_.jpg', 'caption': {'plainText': 'Vampire in the Garden (2022)', '__typename': 'Markdown'}, '__typename': 'Image'}, 'titleType': {'text': 'TV Series', 'id': 'tvSeries', 'isSeries': True, 'isEpisode': False, 'categories': [{'value': 'tv', '__typename': 'TitleTypeCategory'}], 'canHaveEpisodes': True, '__typename': 'TitleType'}, 'titleText': {'text': 'Vampire in the Garden', '__typename': 'TitleText'}, 'originalTitleText': {'text': 'Vampire in the Garden', '__typename': 'TitleText'}, 'releaseYear': {'year': 2022, 'endYear': 2022, '__typename': 'YearRange'}, 'releaseDate': {'day': 16, 'month': 5, 'year': 2022, '__typename': 'ReleaseDate'}}, {'_id': '61e58b578a5a6a599f43a1e9', 'id': 'tt10028196', 'primaryImage': {'id': 'rm1058277633', 'width': 2215, 'height': 2953, 'url': 'https://m.media-amazon.com/images/M/MV5BMmQ4OTEyOTctMmFkOC00N2M4LWIyMDEtN2Y1MzQ0NzMzNDJlXkEyXkFqcGdeQXVyODE5NzE3OTE@._V1_.jpg', 'caption': {'plainText': 'Kareena Kapoor, Aamir Khan, Mona Singh, Manav Vij, and Naga Chaitanya Akkineni in Laal Singh Chaddha (2022)', '__typename': 'Markdown'}, '__typename': 'Image'}, 'titleType': {'text': 'Movie', 'id': 'movie', 'isSeries': False, 'isEpisode': False, 'categories': [{'value': 'movie', '__typename': 'TitleTypeCategory'}], 'canHaveEpisodes': False, '__typename': 'TitleType'}, 'titleText': {'text': 'Laal Singh Chaddha', '__typename': 'TitleText'}, 'originalTitleText': {'text': 'Laal Singh Chaddha', '__typename': 'TitleText'}, 'releaseYear': {'year': 2022, 'endYear': None, '__typename': 'YearRange'}, 'releaseDate': {'day': 11, 'month': 8, 'year': 2022, '__typename': 'ReleaseDate'}}, {'_id': '61e58b77b597b91eb943a80f', 'id': 'tt10047904', 'primaryImage': {'id': 'rm2811362817', 'width': 1448, 'height': 2048, 'url': 'https://m.media-amazon.com/images/M/MV5BOGQwNzBhODUtYjlkMS00NGU5LTlhNTgtZjIwZWIwZGZkYTRlXkEyXkFqcGdeQXVyNzg5OTk2OA@@._V1_.jpg', 'caption': {'plainText': 'Darkling (2022)', '__typename': 'Markdown'}, '__typename': 'Image'}, 'titleType': {'text': 'Movie', 'id': 'movie', 'isSeries': False, 'isEpisode': False, 'categories': [{'value': 'movie', '__typename': 'TitleTypeCategory'}], 'canHaveEpisodes': False, '__typename': 'TitleType'}, 'titleText': {'text': 'Darkling', '__typename': 'TitleText'}, 'originalTitleText': {'text': 'Mrak', '__typename': 'TitleText'}, 'releaseYear': {'year': 2022, 'endYear': None, '__typename': 'YearRange'}, 'releaseDate': {'day': 21, 'month': 4, 'year': 2022, '__typename': 'ReleaseDate'}}, {'_id': '61e58b7ab597b91eb943a90d', 'id': 'tt10049720', 'primaryImage': {'id': 'rm2063436545', 'width': 2494, 'height': 3786, 'url': 'https://m.media-amazon.com/images/M/MV5BMzJkYzIxMTItNWU1OS00MWQ1LWFjMjItYTI5OTgwZGI4NTAxXkEyXkFqcGdeQXVyNzQ0NzU2OA@@._V1_.jpg', 'caption': {'plainText': \"Kevin Porter, Annalicia Aguilar, Kristine Stokes, Morgan Witkop, Steve Filice, William d'Anthony, Peter Marshall Smith, Joey Ruggiero, Jeremiah Crothers, Joe Barra, Emily Lines, and Michael Joseph Nelson in Charlie Hustle (2022)\", '__typename': 'Markdown'}, '__typename': 'Image'}, 'titleType': {'text': 'Movie', 'id': 'movie', 'isSeries': False, 'isEpisode': False, 'categories': [{'value': 'movie', '__typename': 'TitleTypeCategory'}], 'canHaveEpisodes': False, '__typename': 'TitleType'}, 'titleText': {'text': 'Charlie Hustle', '__typename': 'TitleText'}, 'originalTitleText': {'text': 'Charlie Hustle', '__typename': 'TitleText'}, 'releaseYear': {'year': 2022, 'endYear': None, '__typename': 'YearRange'}, 'releaseDate': {'day': None, 'month': None, 'year': 2022, '__typename': 'ReleaseDate'}}, {'_id': '61e58b85909c2ca78143aaa9', 'id': 'tt10054992', 'primaryImage': {'id': 'rm3703934977', 'width': 1536, 'height': 2048, 'url': 'https://m.media-amazon.com/images/M/MV5BNzE5OGU0NmYtMjZkYi00YzExLTg1MDctNGUzZjI2NWI5YzA2XkEyXkFqcGdeQXVyMjA4MDMxNjI@._V1_.jpg', 'caption': {'plainText': 'Thomas Walton, Jared Safier, and Mary Jane Bulseco in D.O.P.E. UNIT (2022)', '__typename': 'Markdown'}, '__typename': 'Image'}, 'titleType': {'text': 'TV Series', 'id': 'tvSeries', 'isSeries': True, 'isEpisode': False, 'categories': [{'value': 'tv', '__typename': 'TitleTypeCategory'}], 'canHaveEpisodes': True, '__typename': 'TitleType'}, 'titleText': {'text': 'D.O.P.E. UNIT', '__typename': 'TitleText'}, 'originalTitleText': {'text': 'D.O.P.E. UNIT', '__typename': 'TitleText'}, 'releaseYear': {'year': 2022, 'endYear': None, '__typename': 'YearRange'}, 'releaseDate': {'day': None, 'month': None, 'year': 2022, '__typename': 'ReleaseDate'}}]}\n"
     ]
    }
   ],
   "source": [
    "import requests\n",
    "\n",
    "url = \"https://moviesdatabase.p.rapidapi.com/titles\"\n",
    "\n",
    "querystring = {\"genre\":\"Drama\",\"startYear\":\"1990\",\"endYear\":\"2022\"}\n",
    "\n",
    "headers = {\n",
    "\t\"X-RapidAPI-Key\": \"f6331b74eemshe555eab401ff0ccp18d045jsneaa4425720fb\",\n",
    "\t\"X-RapidAPI-Host\": \"moviesdatabase.p.rapidapi.com\"\n",
    "}\n",
    "\n",
    "response = requests.get(url, headers=headers, params=querystring)\n",
    "\n",
    "print(response.json())"
   ]
  },
  {
   "cell_type": "code",
   "execution_count": 69,
   "metadata": {},
   "outputs": [
    {
     "data": {
      "text/plain": [
       "'/titles?year=2022&page=2'"
      ]
     },
     "execution_count": 69,
     "metadata": {},
     "output_type": "execute_result"
    }
   ],
   "source": [
    "llamada[\"next\"]"
   ]
  },
  {
   "cell_type": "code",
   "execution_count": 70,
   "metadata": {},
   "outputs": [
    {
     "data": {
      "text/plain": [
       "10"
      ]
     },
     "execution_count": 70,
     "metadata": {},
     "output_type": "execute_result"
    }
   ],
   "source": [
    "llamada[\"entries\"]"
   ]
  },
  {
   "cell_type": "code",
   "execution_count": 71,
   "metadata": {},
   "outputs": [
    {
     "data": {
      "text/plain": [
       "list"
      ]
     },
     "execution_count": 71,
     "metadata": {},
     "output_type": "execute_result"
    }
   ],
   "source": [
    "type(llamada[\"results\"])"
   ]
  },
  {
   "cell_type": "code",
   "execution_count": 72,
   "metadata": {},
   "outputs": [
    {
     "data": {
      "text/plain": [
       "{'_id': '61e584ead735dff3f9422c4b',\n",
       " 'id': 'tt0429087',\n",
       " 'primaryImage': {'id': 'rm3004956673',\n",
       "  'width': 675,\n",
       "  'height': 1000,\n",
       "  'url': 'https://m.media-amazon.com/images/M/MV5BMjU0ZmU1NTItNmRjNS00MjRkLWE0MDctYWMyNDY0YTA3ZDc4XkEyXkFqcGdeQXVyMDM2NDM2MQ@@._V1_.jpg',\n",
       "  'caption': {'plainText': 'Charlie Hunnam in Shantaram (2022)',\n",
       "   '__typename': 'Markdown'},\n",
       "  '__typename': 'Image'},\n",
       " 'titleType': {'text': 'TV Series',\n",
       "  'id': 'tvSeries',\n",
       "  'isSeries': True,\n",
       "  'isEpisode': False,\n",
       "  'categories': [{'value': 'tv', '__typename': 'TitleTypeCategory'}],\n",
       "  'canHaveEpisodes': True,\n",
       "  '__typename': 'TitleType'},\n",
       " 'titleText': {'text': 'Shantaram', '__typename': 'TitleText'},\n",
       " 'originalTitleText': {'text': 'Shantaram', '__typename': 'TitleText'},\n",
       " 'releaseYear': {'year': 2022, 'endYear': 2022, '__typename': 'YearRange'},\n",
       " 'releaseDate': {'day': 14,\n",
       "  'month': 10,\n",
       "  'year': 2022,\n",
       "  '__typename': 'ReleaseDate'}}"
      ]
     },
     "execution_count": 72,
     "metadata": {},
     "output_type": "execute_result"
    }
   ],
   "source": [
    "llamada[\"results\"][0]"
   ]
  },
  {
   "cell_type": "code",
   "execution_count": 73,
   "metadata": {},
   "outputs": [],
   "source": [
    "nombre=llamada[\"results\"][0][\"titleText\"][\"text\"]\n",
    "tipo=llamada[\"results\"][0][\"titleType\"][\"text\"]\n",
    "año_estreno=llamada[\"results\"][0][\"releaseYear\"][\"year\"]\n",
    "id_pelicula=llamada[\"results\"][0][\"id\"]\n",
    "mes_estreno=llamada[\"results\"][0][\"releaseDate\"][\"month\"]"
   ]
  },
  {
   "cell_type": "code",
   "execution_count": 74,
   "metadata": {},
   "outputs": [
    {
     "data": {
      "text/plain": [
       "'tt0429087'"
      ]
     },
     "execution_count": 74,
     "metadata": {},
     "output_type": "execute_result"
    }
   ],
   "source": [
    "nombre\n",
    "tipo\n",
    "año_estreno\n",
    "mes_estreno\n",
    "id_pelicula"
   ]
  },
  {
   "cell_type": "code",
   "execution_count": 75,
   "metadata": {},
   "outputs": [
    {
     "data": {
      "text/plain": [
       "[('Shantaram', 'TV Series', 2022, 10, 'tt0429087'),\n",
       " ('Nefarious', 'Movie', 2022, None, 'tt0451272'),\n",
       " ('The Swarm', 'TV Series', 2022, None, 'tt0808491'),\n",
       " ('Riveted: The History of Jeans', 'TV Episode', 2022, 2, 'tt0857466'),\n",
       " ('Hellraiser', 'Movie', 2022, 10, 'tt0887261'),\n",
       " ('Milli Vanilli', 'Movie', 2022, None, 'tt0965381'),\n",
       " ('Kill Switch', 'Short', 2022, 10, 'tt10001728'),\n",
       " ('Siempre Yo', 'Short', 2022, 3, 'tt10003926'),\n",
       " ('Spriggan', 'TV Series', 2022, 6, 'tt10011306'),\n",
       " ('Vampire in the Garden', 'TV Series', 2022, 5, 'tt10011314')]"
      ]
     },
     "execution_count": 75,
     "metadata": {},
     "output_type": "execute_result"
    }
   ],
   "source": [
    "lista_tuplas=[]\n",
    "\n",
    "for pelicula in llamada[\"results\"]:\n",
    "    \n",
    "    lista_peliculas_y_cortos=[]\n",
    "    \n",
    "    nombre=pelicula[\"titleText\"][\"text\"]\n",
    "    tipo=pelicula[\"titleType\"][\"text\"]\n",
    "    año_estreno=pelicula[\"releaseYear\"][\"year\"]\n",
    "    mes_estreno=pelicula[\"releaseDate\"][\"month\"]\n",
    "    id_pelicula=pelicula[\"id\"]\n",
    "    \n",
    "    lista_peliculas_y_cortos.append(nombre)\n",
    "    lista_peliculas_y_cortos.append(tipo)\n",
    "    lista_peliculas_y_cortos.append(año_estreno)\n",
    "    lista_peliculas_y_cortos.append(mes_estreno)\n",
    "    lista_peliculas_y_cortos.append(id_pelicula)\n",
    "    \n",
    "    \n",
    "    lista_tuplas.append(tuple(lista_peliculas_y_cortos))\n",
    "    \n",
    "lista_tuplas"
   ]
  }
 ],
 "metadata": {
  "kernelspec": {
   "display_name": "base",
   "language": "python",
   "name": "python3"
  },
  "language_info": {
   "codemirror_mode": {
    "name": "ipython",
    "version": 3
   },
   "file_extension": ".py",
   "mimetype": "text/x-python",
   "name": "python",
   "nbconvert_exporter": "python",
   "pygments_lexer": "ipython3",
   "version": "3.9.7"
  }
 },
 "nbformat": 4,
 "nbformat_minor": 2
}
